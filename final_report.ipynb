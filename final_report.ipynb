{
 "cells": [
  {
   "cell_type": "markdown",
   "metadata": {},
   "source": [
    "Это одна из версий ноутбука (их несколько)\n",
    "\n",
    "Я тщательно обдумывала, как лучше всего сформулировать цель (таргет) для нашей модели. Очевидный и, судя по результатам, наиболее эффективный подход — использовать данные из последнего заказа. Однако мне показалось не совсем корректным обучать модель на исторических данных о реальных покупках, предполагая, что некоторые из них не были совершены, и ставить в соответствующих случаях ноль.\n",
    "\n",
    "Вместо этого, я решила использовать данные о всех совершенных покупках, отметив их как 1, и добавить в качестве нулей те товары (cart), которые пользователь не покупал. Чтобы определить, какие именно товары стоит добавить, я провела ассоциативный анализ с помощью алгоритма Apriori. Этот анализ помог выявить пары товаров, которые обычно покупаются вместе. На основании этих данных, я добавила соответствующие товары в корзину пользователя, выбрав для них ту же дату и время, что и для остальных товаров в заказе."
   ]
  },
  {
   "cell_type": "markdown",
   "metadata": {},
   "source": [
    "Такой способ показал более плохие результаты, тогда для увеличения числа нулей в таргете, я разбавила заказами рандомным образом, столько же, сколько и в заказе было едениц. \n",
    "\n",
    "итоговый результат получился лучше, но не значительно\n",
    "\n",
    "Анализ данных был проведен, но не представлен"
   ]
  },
  {
   "cell_type": "markdown",
   "metadata": {},
   "source": [
    "####  ДОП ФИЧИ"
   ]
  },
  {
   "cell_type": "markdown",
   "metadata": {},
   "source": [
    "1. Среднее количество покупок пользователя в заказе\n",
    "2. Частота заказов пользователя\n",
    "3. Классификация пользователей по k-means\n",
    "4. Ранжирование заказов, для придачи значимости самым частым и свежим покупкам\n",
    "5. Все возможные временные фичи - день недели, час, месяц, год (категориальными типами)\n",
    "6. Опередение черты пользователя как \"выбор популярных товаров\" и затем добавление ему в заказ популярных товаров если у него таких заказов много (было реализовано, но не представленно в этом репорте)\n",
    "7. Предсказание времени следующего заказа, чтобы подготовить тестовый датасет"
   ]
  },
  {
   "cell_type": "markdown",
   "metadata": {},
   "source": [
    "####  СТЕК И МЕТОДЫ"
   ]
  },
  {
   "cell_type": "markdown",
   "metadata": {},
   "source": [
    "1. Из самых интересных - априори, алгоритм для выявления товаров,которые покупают вместе. Я использовала уже на предсказанных результатах. (как в рекомендательной системе комбинированного типа)\n",
    "2. Cat Boost Classifier - удобно и быстро, можно было не масштабировать, но я масштабировала, кажется у меня модель переобучена, хотелось бы еще другие метрики посмотреть\n",
    "3. Выявила топ самых покупаемых товаров и самых не покупаемых, чтобы улучшить итоговые предсказания"
   ]
  },
  {
   "cell_type": "code",
   "execution_count": 187,
   "metadata": {},
   "outputs": [],
   "source": [
    "import pandas as pd\n",
    "import numpy as np\n",
    "\n",
    "import matplotlib.pyplot as plt\n",
    "\n",
    "from sklearn.cluster import KMeans\n",
    "from sklearn.preprocessing import StandardScaler\n",
    "from sklearn.model_selection import train_test_split\n",
    "from sklearn.metrics import f1_score, precision_score, recall_score, roc_auc_score\n",
    "from sklearn.model_selection import GridSearchCV\n",
    "\n",
    "from mlxtend.frequent_patterns import apriori, association_rules\n",
    "from mlxtend.preprocessing import TransactionEncoder"
   ]
  },
  {
   "cell_type": "code",
   "execution_count": 188,
   "metadata": {},
   "outputs": [],
   "source": [
    "#pip install mlxtend"
   ]
  },
  {
   "cell_type": "code",
   "execution_count": 189,
   "metadata": {},
   "outputs": [],
   "source": [
    "sample = pd.read_csv(\"/Users/boorzik/Documents/sbermarket/sbermarket-internship-competition/sample_submission.csv\")\n",
    "df = pd.read_csv(\"/Users/boorzik/Documents/sbermarket/sbermarket-internship-competition/train.csv\")"
   ]
  },
  {
   "cell_type": "markdown",
   "metadata": {},
   "source": [
    "найдем дату следующего заказа, чтобы построить предсказания для него\n"
   ]
  },
  {
   "cell_type": "code",
   "execution_count": 190,
   "metadata": {},
   "outputs": [],
   "source": [
    "df['order_completed_at'] = pd.to_datetime(df['order_completed_at'])\n",
    "\n",
    "data_sorted = df.sort_values(by=['user_id', 'order_completed_at'])"
   ]
  },
  {
   "cell_type": "code",
   "execution_count": 191,
   "metadata": {},
   "outputs": [
    {
     "name": "stdout",
     "output_type": "stream",
     "text": [
      "       user_id     predicted_next_order_date\n",
      "0            0 2020-09-04 07:59:12.286470875\n",
      "1            1 2020-07-26 19:45:40.842687791\n",
      "2            2 2020-06-30 20:50:44.403037860\n",
      "3            3 2020-07-25 00:40:42.131284267\n",
      "4            4 2020-09-14 07:55:55.870641035\n",
      "...        ...                           ...\n",
      "19995    19995 2020-08-31 17:02:14.109636154\n",
      "19996    19996 2020-09-03 11:07:27.573775204\n",
      "19997    19997 2020-09-01 13:53:01.109636154\n",
      "19998    19998 2020-09-03 16:54:53.940200768\n",
      "19999    19999 2020-09-01 22:13:02.109636154\n",
      "\n",
      "[20000 rows x 2 columns]\n"
     ]
    }
   ],
   "source": [
    "# Рассчитываем временной интервал между заказами для каждого пользователя\n",
    "data_sorted['next_order_diff'] = data_sorted.groupby('user_id')['order_completed_at'].diff().dt.days.shift(-1)\n",
    "\n",
    "# Расчет среднего интервала времени между заказами для всех пользователей\n",
    "mean_order_interval_all_users = data_sorted['next_order_diff'].mean()\n",
    "\n",
    "# Заменяем нулевые и отрицательные значения интервала на средний интервал всех пользователей\n",
    "data_sorted['next_order_diff'] = data_sorted['next_order_diff'].apply(lambda x: mean_order_interval_all_users if pd.isnull(x) or x <= 0 else x)\n",
    "\n",
    "# Добавление информации о последней дате заказа для каждого пользователя\n",
    "last_order_dates = data_sorted.groupby('user_id')['order_completed_at'].max().reset_index()\n",
    "last_order_dates.rename(columns={'order_completed_at': 'last_order_date'}, inplace=True)\n",
    "\n",
    "# Объединение средних интервалов и последних дат заказов\n",
    "user_next_order_prediction = pd.merge(data_sorted.groupby('user_id')['next_order_diff'].mean().reset_index(), last_order_dates, on='user_id')\n",
    "\n",
    "# Расчет предполагаемой даты следующего заказа\n",
    "user_next_order_prediction['predicted_next_order_date'] = user_next_order_prediction['last_order_date'] + pd.to_timedelta(user_next_order_prediction['next_order_diff'], unit='D')\n",
    "\n",
    "# Вывод предполагаемой даты следующего заказа для каждого пользователя\n",
    "print(user_next_order_prediction[['user_id', 'predicted_next_order_date']])\n"
   ]
  },
  {
   "cell_type": "markdown",
   "metadata": {},
   "source": [
    "округлим время"
   ]
  },
  {
   "cell_type": "code",
   "execution_count": 192,
   "metadata": {},
   "outputs": [],
   "source": [
    "user_next_order_prediction['predicted_next_order_date'] = user_next_order_prediction['predicted_next_order_date'].round('1s')"
   ]
  },
  {
   "cell_type": "code",
   "execution_count": 193,
   "metadata": {},
   "outputs": [
    {
     "data": {
      "text/html": [
       "<div>\n",
       "<style scoped>\n",
       "    .dataframe tbody tr th:only-of-type {\n",
       "        vertical-align: middle;\n",
       "    }\n",
       "\n",
       "    .dataframe tbody tr th {\n",
       "        vertical-align: top;\n",
       "    }\n",
       "\n",
       "    .dataframe thead th {\n",
       "        text-align: right;\n",
       "    }\n",
       "</style>\n",
       "<table border=\"1\" class=\"dataframe\">\n",
       "  <thead>\n",
       "    <tr style=\"text-align: right;\">\n",
       "      <th></th>\n",
       "      <th>user_id</th>\n",
       "      <th>next_order_diff</th>\n",
       "      <th>last_order_date</th>\n",
       "      <th>predicted_next_order_date</th>\n",
       "    </tr>\n",
       "  </thead>\n",
       "  <tbody>\n",
       "    <tr>\n",
       "      <th>0</th>\n",
       "      <td>0</td>\n",
       "      <td>2.014436</td>\n",
       "      <td>2020-09-02 07:38:25</td>\n",
       "      <td>2020-09-04 07:59:12</td>\n",
       "    </tr>\n",
       "    <tr>\n",
       "      <th>1</th>\n",
       "      <td>1</td>\n",
       "      <td>12.392163</td>\n",
       "      <td>2020-07-14 10:20:58</td>\n",
       "      <td>2020-07-26 19:45:41</td>\n",
       "    </tr>\n",
       "    <tr>\n",
       "      <th>2</th>\n",
       "      <td>2</td>\n",
       "      <td>12.096949</td>\n",
       "      <td>2020-06-18 18:31:08</td>\n",
       "      <td>2020-06-30 20:50:44</td>\n",
       "    </tr>\n",
       "    <tr>\n",
       "      <th>3</th>\n",
       "      <td>3</td>\n",
       "      <td>30.481402</td>\n",
       "      <td>2020-06-24 13:07:29</td>\n",
       "      <td>2020-07-25 00:40:42</td>\n",
       "    </tr>\n",
       "    <tr>\n",
       "      <th>4</th>\n",
       "      <td>4</td>\n",
       "      <td>17.750786</td>\n",
       "      <td>2020-08-27 13:54:48</td>\n",
       "      <td>2020-09-14 07:55:56</td>\n",
       "    </tr>\n",
       "    <tr>\n",
       "      <th>...</th>\n",
       "      <td>...</td>\n",
       "      <td>...</td>\n",
       "      <td>...</td>\n",
       "      <td>...</td>\n",
       "    </tr>\n",
       "    <tr>\n",
       "      <th>19995</th>\n",
       "      <td>19995</td>\n",
       "      <td>1.086552</td>\n",
       "      <td>2020-08-30 14:57:36</td>\n",
       "      <td>2020-08-31 17:02:14</td>\n",
       "    </tr>\n",
       "    <tr>\n",
       "      <th>19996</th>\n",
       "      <td>19996</td>\n",
       "      <td>1.140284</td>\n",
       "      <td>2020-09-02 07:45:27</td>\n",
       "      <td>2020-09-03 11:07:28</td>\n",
       "    </tr>\n",
       "    <tr>\n",
       "      <th>19997</th>\n",
       "      <td>19997</td>\n",
       "      <td>1.086552</td>\n",
       "      <td>2020-08-31 11:48:23</td>\n",
       "      <td>2020-09-01 13:53:01</td>\n",
       "    </tr>\n",
       "    <tr>\n",
       "      <th>19998</th>\n",
       "      <td>19998</td>\n",
       "      <td>1.077441</td>\n",
       "      <td>2020-09-02 15:03:23</td>\n",
       "      <td>2020-09-03 16:54:54</td>\n",
       "    </tr>\n",
       "    <tr>\n",
       "      <th>19999</th>\n",
       "      <td>19999</td>\n",
       "      <td>1.086552</td>\n",
       "      <td>2020-08-31 20:08:24</td>\n",
       "      <td>2020-09-01 22:13:02</td>\n",
       "    </tr>\n",
       "  </tbody>\n",
       "</table>\n",
       "<p>20000 rows × 4 columns</p>\n",
       "</div>"
      ],
      "text/plain": [
       "       user_id  next_order_diff     last_order_date predicted_next_order_date\n",
       "0            0         2.014436 2020-09-02 07:38:25       2020-09-04 07:59:12\n",
       "1            1        12.392163 2020-07-14 10:20:58       2020-07-26 19:45:41\n",
       "2            2        12.096949 2020-06-18 18:31:08       2020-06-30 20:50:44\n",
       "3            3        30.481402 2020-06-24 13:07:29       2020-07-25 00:40:42\n",
       "4            4        17.750786 2020-08-27 13:54:48       2020-09-14 07:55:56\n",
       "...        ...              ...                 ...                       ...\n",
       "19995    19995         1.086552 2020-08-30 14:57:36       2020-08-31 17:02:14\n",
       "19996    19996         1.140284 2020-09-02 07:45:27       2020-09-03 11:07:28\n",
       "19997    19997         1.086552 2020-08-31 11:48:23       2020-09-01 13:53:01\n",
       "19998    19998         1.077441 2020-09-02 15:03:23       2020-09-03 16:54:54\n",
       "19999    19999         1.086552 2020-08-31 20:08:24       2020-09-01 22:13:02\n",
       "\n",
       "[20000 rows x 4 columns]"
      ]
     },
     "execution_count": 193,
     "metadata": {},
     "output_type": "execute_result"
    }
   ],
   "source": [
    "user_next_order_prediction"
   ]
  },
  {
   "cell_type": "code",
   "execution_count": 194,
   "metadata": {},
   "outputs": [],
   "source": [
    "sample['user_id'] = sample['id'].apply(lambda x: int(x.split(';')[0]))\n",
    "sample['cart'] = sample['id'].apply(lambda x: int(x.split(';')[1]))"
   ]
  },
  {
   "cell_type": "code",
   "execution_count": 195,
   "metadata": {},
   "outputs": [
    {
     "name": "stdout",
     "output_type": "stream",
     "text": [
      "               id  target  user_id  cart predicted_next_order_date\n",
      "4232       63;248       0       63   248       2020-09-05 05:22:24\n",
      "214745   4162;379       0     4162   379       2020-09-05 03:32:26\n",
      "24150     427;387       0      427   387       2020-09-08 19:30:35\n",
      "252519    4899;92       0     4899    92       2020-08-15 03:59:12\n",
      "696799   16723;15       0    16723    15       2020-08-24 09:17:30\n",
      "313895   6258;419       1     6258   419       2020-08-21 12:05:32\n",
      "390229    7978;25       0     7978    25       2020-09-04 03:21:58\n",
      "615523  14103;384       1    14103   384       2020-08-30 16:53:59\n",
      "310899   6184;380       1     6184   380       2020-08-22 14:24:34\n",
      "633597   14619;10       0    14619    10       2020-09-01 01:53:44\n"
     ]
    }
   ],
   "source": [
    "# Объединение таблицы sample с предсказаниями дат следующих заказов\n",
    "sample_with_predictions = pd.merge(sample, user_next_order_prediction[['user_id', 'predicted_next_order_date']], on='user_id', how='left')\n",
    "\n",
    "print(sample_with_predictions.sample(10))\n"
   ]
  },
  {
   "cell_type": "markdown",
   "metadata": {},
   "source": [
    "Ассоциативный анализ, ищем с какими товарами обычно покупается тот или иной товар"
   ]
  },
  {
   "cell_type": "code",
   "execution_count": 196,
   "metadata": {},
   "outputs": [
    {
     "name": "stdout",
     "output_type": "stream",
     "text": [
      "   antecedents consequents   support  confidence      lift\n",
      "0         (57)        (14)  0.268455    0.516326  1.150757\n",
      "1         (14)        (57)  0.268455    0.598316  1.150757\n",
      "2         (61)        (14)  0.229774    0.525611  1.171452\n",
      "3         (14)        (61)  0.229774    0.512107  1.171452\n",
      "4        (398)        (14)  0.216785    0.555683  1.238475\n",
      "5         (14)       (398)  0.216785    0.483157  1.238475\n",
      "6         (57)        (22)  0.219793    0.422734  1.292722\n",
      "7         (22)        (57)  0.219793    0.672128  1.292722\n",
      "8         (57)        (23)  0.216116    0.415662  1.211661\n",
      "9         (23)        (57)  0.216116    0.629982  1.211661\n",
      "10        (57)        (61)  0.310712    0.597601  1.367021\n",
      "11        (61)        (57)  0.310712    0.710759  1.367021\n",
      "12        (57)        (84)  0.220175    0.423469  1.290503\n",
      "13        (84)        (57)  0.220175    0.670974  1.290503\n",
      "14        (57)       (398)  0.251994    0.484666  1.242343\n",
      "15       (398)        (57)  0.251994    0.645935  1.242343\n",
      "16        (61)       (398)  0.215022    0.491867  1.260802\n",
      "17       (398)        (61)  0.215022    0.551167  1.260802\n"
     ]
    }
   ],
   "source": [
    "# Группировка данных по заказам и агрегация категорий в списки\n",
    "grouped = df.groupby(['user_id', 'order_completed_at'])['cart'].apply(list).reset_index(name='items')\n",
    "\n",
    "# Создание списка транзакций\n",
    "transactions = grouped['items'].tolist()\n",
    "\n",
    "# Конвертация транзакций в формат, подходящий для mlxtend\n",
    "te = TransactionEncoder()\n",
    "te_ary = te.fit(transactions).transform(transactions)\n",
    "df = pd.DataFrame(te_ary, columns=te.columns_)\n",
    "\n",
    "# Находим часто покупаемые вместе товары с помощью алгоритма Apriori\n",
    "frequent_itemsets = apriori(df, min_support=0.2, use_colnames=True)  # Увеличиваем min_support\n",
    "\n",
    "# Генерация ассоциативных правил\n",
    "rules = association_rules(frequent_itemsets, metric=\"lift\", min_threshold=1)\n",
    "\n",
    "\n",
    "# Выводим полученные правила\n",
    "print(rules[['antecedents', 'consequents', 'support', 'confidence', 'lift']])\n"
   ]
  },
  {
   "cell_type": "code",
   "execution_count": 197,
   "metadata": {},
   "outputs": [],
   "source": [
    "# Преобразование 'antecedents' и 'consequents' из frozenset в список для упрощения обработки\n",
    "rules['antecedents'] = rules['antecedents'].apply(lambda x: list(x)[0])\n",
    "rules['consequents'] = rules['consequents'].apply(lambda x: list(x)[0])\n"
   ]
  },
  {
   "cell_type": "code",
   "execution_count": 198,
   "metadata": {},
   "outputs": [],
   "source": [
    "#data_extended = pd.read_csv(\"/Users/boorzik/Documents/sbermarket/sbermarket-internship-competition/data_extended.csv\")"
   ]
  },
  {
   "cell_type": "code",
   "execution_count": 199,
   "metadata": {},
   "outputs": [],
   "source": [
    "data = pd.read_csv(\"/Users/boorzik/Documents/sbermarket/sbermarket-internship-competition/train.csv\")"
   ]
  },
  {
   "cell_type": "markdown",
   "metadata": {},
   "source": [
    "разбавим заказы нулями, то есть товарами, которых пользователь не заказывал"
   ]
  },
  {
   "cell_type": "code",
   "execution_count": 200,
   "metadata": {},
   "outputs": [
    {
     "name": "stdout",
     "output_type": "stream",
     "text": [
      "         user_id   order_completed_at  cart  target\n",
      "0              0  2020-07-19 09:59:17    20     NaN\n",
      "1              0  2020-07-19 09:59:17    82     NaN\n",
      "2              0  2020-07-19 09:59:17   441     NaN\n",
      "3              0  2020-07-19 09:59:17    57     NaN\n",
      "4              0  2020-07-19 09:59:17    14     NaN\n",
      "...          ...                  ...   ...     ...\n",
      "6246123    19999  2020-08-31 18:54:24   701     0.0\n",
      "6246124    19999  2020-08-31 19:32:08   326     NaN\n",
      "6246125    19999  2020-08-31 19:32:08    84     0.0\n",
      "6246126    19999  2020-08-31 20:08:24   326     NaN\n",
      "6246127    19999  2020-08-31 20:08:24   747     0.0\n",
      "\n",
      "[6246128 rows x 4 columns]\n"
     ]
    }
   ],
   "source": [
    "# Список всех уникальных товаров\n",
    "all_items = data['cart'].unique()\n",
    "\n",
    "# Функция для добавления случайных товаров в заказ, равное количеству товаров в заказе\n",
    "def add_random_items(group, all_items):\n",
    "    num_items = len(group)  # Количество товаров в текущем заказе\n",
    "    existing_items = set(group['cart'])\n",
    "    possible_items = list(set(all_items) - existing_items)\n",
    "    random_items = np.random.choice(possible_items, min(num_items, len(possible_items)), replace=False)\n",
    "    \n",
    "    new_rows = []\n",
    "    for item in random_items:\n",
    "        new_row = {'user_id': group['user_id'].iloc[0], \n",
    "                   'order_completed_at': group['order_completed_at'].iloc[0], \n",
    "                   'cart': item, \n",
    "                   'target': 0}\n",
    "        new_rows.append(new_row)\n",
    "    \n",
    "    return pd.concat([group, pd.DataFrame(new_rows)], ignore_index=True)\n",
    "\n",
    "# Применение функции к каждому заказу и объединение результатов\n",
    "new_data = pd.concat([add_random_items(group, all_items) for _, group in data.groupby(['user_id', 'order_completed_at'])]).reset_index(drop=True)\n",
    "\n",
    "print(new_data)\n"
   ]
  },
  {
   "cell_type": "code",
   "execution_count": 201,
   "metadata": {},
   "outputs": [],
   "source": [
    "new_data['target'] = new_data['target'].fillna(1)\n"
   ]
  },
  {
   "cell_type": "code",
   "execution_count": 202,
   "metadata": {},
   "outputs": [
    {
     "data": {
      "text/plain": [
       "target\n",
       "1.0    3123064\n",
       "0.0    3123064\n",
       "Name: count, dtype: int64"
      ]
     },
     "execution_count": 202,
     "metadata": {},
     "output_type": "execute_result"
    }
   ],
   "source": [
    "new_data.target.value_counts()"
   ]
  },
  {
   "cell_type": "markdown",
   "metadata": {},
   "source": [
    "Добавляем фичи\n"
   ]
  },
  {
   "cell_type": "code",
   "execution_count": 203,
   "metadata": {},
   "outputs": [],
   "source": [
    "data = new_data.copy()"
   ]
  },
  {
   "cell_type": "code",
   "execution_count": 204,
   "metadata": {},
   "outputs": [],
   "source": [
    "# Среднее количество покупок пользователя по всем категориям\n",
    "user_purchase_counts = data.groupby('user_id')['cart'].count().reset_index(name='avg_purchases_per_user')\n",
    "data = pd.merge(data, user_purchase_counts, on='user_id', how='left')\n",
    "\n",
    "# Среднее количество уникальных категорий, купленных пользователем\n",
    "user_unique_carts = data.groupby('user_id')['cart'].nunique().reset_index(name='avg_unique_carts_per_user')\n",
    "data = pd.merge(data, user_unique_carts, on='user_id', how='left')\n"
   ]
  },
  {
   "cell_type": "code",
   "execution_count": 205,
   "metadata": {},
   "outputs": [],
   "source": [
    "# Общее количество покупок по категориям\n",
    "cart_purchase_counts = data.groupby('cart')['user_id'].count().reset_index(name='total_purchases_per_cart')\n",
    "data = pd.merge(data, cart_purchase_counts, on='cart', how='left')\n"
   ]
  },
  {
   "cell_type": "code",
   "execution_count": 206,
   "metadata": {},
   "outputs": [],
   "source": [
    "# Частота покупок конкретной категории пользователем\n",
    "user_cart_interaction = data.groupby(['user_id', 'cart']).size().reset_index(name='user_cart_frequency')\n",
    "data = pd.merge(data, user_cart_interaction, on=['user_id', 'cart'], how='left')\n"
   ]
  },
  {
   "cell_type": "markdown",
   "metadata": {},
   "source": [
    "кластеризация пользователей\n"
   ]
  },
  {
   "cell_type": "code",
   "execution_count": 207,
   "metadata": {},
   "outputs": [
    {
     "name": "stderr",
     "output_type": "stream",
     "text": [
      "/Library/Frameworks/Python.framework/Versions/3.12/lib/python3.12/site-packages/sklearn/cluster/_kmeans.py:1416: FutureWarning: The default value of `n_init` will change from 10 to 'auto' in 1.4. Set the value of `n_init` explicitly to suppress the warning\n",
      "  super()._check_params_vs_input(X, default_n_init=10)\n"
     ]
    }
   ],
   "source": [
    "# Подготовка данных для кластеризации и масштабирование\n",
    "features_for_clustering = ['avg_purchases_per_user', 'avg_unique_carts_per_user',  'user_cart_frequency']\n",
    "X_clustering = data[features_for_clustering]\n",
    "scaler = StandardScaler()\n",
    "X_scaled = scaler.fit_transform(X_clustering)\n",
    "\n",
    "# Кластеризация и добавление результатов как категориального признака\n",
    "kmeans = KMeans(n_clusters=15, random_state=3146)\n",
    "data['user_cluster'] = kmeans.fit_predict(X_scaled).astype(str)  # Преобразуем в строку для обозначения категориальности\n",
    "\n",
    "\n",
    "# Указываем, что 'user_cluster' - категориальный признак\n",
    "cat_features = ['user_cluster']\n"
   ]
  },
  {
   "cell_type": "code",
   "execution_count": 208,
   "metadata": {},
   "outputs": [
    {
     "data": {
      "text/plain": [
       "user_cluster\n",
       "13    1357369\n",
       "2     1283579\n",
       "11     957568\n",
       "1      745482\n",
       "7      471361\n",
       "12     392264\n",
       "6      302526\n",
       "3      227469\n",
       "4      140447\n",
       "10     132528\n",
       "8       83384\n",
       "9       80795\n",
       "0       35311\n",
       "14      28792\n",
       "5        7253\n",
       "Name: count, dtype: int64"
      ]
     },
     "execution_count": 208,
     "metadata": {},
     "output_type": "execute_result"
    }
   ],
   "source": [
    "data.user_cluster.value_counts()"
   ]
  },
  {
   "cell_type": "code",
   "execution_count": 209,
   "metadata": {},
   "outputs": [
    {
     "name": "stdout",
     "output_type": "stream",
     "text": [
      "    cart  count\n",
      "0     57  78884\n",
      "1     14  68839\n",
      "2     61  67730\n",
      "3    398  61249\n",
      "4     23  52634\n",
      "..   ...    ...\n",
      "75   399  11712\n",
      "76   441  11685\n",
      "77    11  11578\n",
      "78   377  11436\n",
      "79   393  11012\n",
      "\n",
      "[80 rows x 2 columns]\n"
     ]
    }
   ],
   "source": [
    "data['order_completed_at'] = pd.to_datetime(data['order_completed_at'])\n",
    "\n",
    "# Определение даты начала интервала (последние полгода от максимальной даты в датасете)\n",
    "start_date = data['order_completed_at'].max() - pd.DateOffset(months=6)\n",
    "\n",
    "# Фильтрация данных за последние полгода\n",
    "filtered_data = data[data['order_completed_at'] >= start_date]\n",
    "\n",
    "# Агрегация данных для подсчета встречаемости каждой категории за последние полгода\n",
    "category_counts_last_half_year = filtered_data['cart'].value_counts().reset_index(name='count')\n",
    "category_counts_last_half_year.columns = ['cart', 'count']\n",
    "\n",
    "# Выборка топ-80 самых популярных категорий за последние полгода\n",
    "top_80_categories_last_half_year = category_counts_last_half_year.head(80)\n",
    "\n",
    "print(top_80_categories_last_half_year)\n"
   ]
  },
  {
   "cell_type": "code",
   "execution_count": 210,
   "metadata": {},
   "outputs": [
    {
     "name": "stdout",
     "output_type": "stream",
     "text": [
      "     cart  count\n",
      "801   787   2511\n",
      "802   827   2511\n",
      "803   521   2511\n",
      "804   319   2510\n",
      "805   857   2510\n",
      "..    ...    ...\n",
      "876   459   2435\n",
      "877   832   2425\n",
      "878   321   2423\n",
      "879   757   2422\n",
      "880   195   2413\n",
      "\n",
      "[80 rows x 2 columns]\n"
     ]
    }
   ],
   "source": [
    "\n",
    "# Определение даты начала интервала (последние полгода от максимальной даты в датасете)\n",
    "start_date = data['order_completed_at'].max() - pd.DateOffset(months=6)\n",
    "\n",
    "# Фильтрация данных за последние полгода\n",
    "filtered_data = data[data['order_completed_at'] >= start_date]\n",
    "\n",
    "# Агрегация данных для подсчета встречаемости каждой категории за последние полгода\n",
    "category_counts_last_half_year = filtered_data['cart'].value_counts().reset_index(name='count')\n",
    "category_counts_last_half_year.columns = ['cart', 'count']\n",
    "\n",
    "# Выборка 80 самых не популярных категорий за последние полгода\n",
    "bottom_80_categories_last_half_year = category_counts_last_half_year.tail(80)\n",
    "\n",
    "print(bottom_80_categories_last_half_year)\n"
   ]
  },
  {
   "cell_type": "code",
   "execution_count": 211,
   "metadata": {},
   "outputs": [],
   "source": [
    "# Назначаем ранг каждому заказу пользователя\n",
    "data['order_rank'] = data.groupby('user_id')['order_completed_at'].rank(\"dense\", ascending=True)\n",
    "\n",
    "# Максимальный ранг в истории каждого пользователя\n",
    "max_rank = data.groupby('user_id')['order_rank'].transform('max')\n",
    "\n",
    "# Присваиваем 'target' нормализованное значение ранга\n",
    "data['order_rank'] = data['order_rank'] / max_rank"
   ]
  },
  {
   "cell_type": "code",
   "execution_count": 212,
   "metadata": {},
   "outputs": [
    {
     "data": {
      "text/plain": [
       "Index(['user_id', 'order_completed_at', 'cart', 'target',\n",
       "       'avg_purchases_per_user', 'avg_unique_carts_per_user',\n",
       "       'total_purchases_per_cart', 'user_cart_frequency', 'user_cluster',\n",
       "       'order_rank'],\n",
       "      dtype='object')"
      ]
     },
     "execution_count": 212,
     "metadata": {},
     "output_type": "execute_result"
    }
   ],
   "source": [
    "data.columns"
   ]
  },
  {
   "cell_type": "code",
   "execution_count": 213,
   "metadata": {},
   "outputs": [
    {
     "name": "stdout",
     "output_type": "stream",
     "text": [
      "   user_id  order_completed_at  cart  target  avg_purchases_per_user  \\\n",
      "0        0 2020-07-19 09:59:17    20     1.0                0.011698   \n",
      "1        0 2020-07-19 09:59:17    82     1.0                0.011698   \n",
      "2        0 2020-07-19 09:59:17   441     1.0                0.011698   \n",
      "3        0 2020-07-19 09:59:17    57     1.0                0.011698   \n",
      "4        0 2020-07-19 09:59:17    14     1.0                0.011698   \n",
      "\n",
      "   avg_unique_carts_per_user  total_purchases_per_cart  user_cart_frequency  \\\n",
      "0                   0.083524                  0.141759             0.000000   \n",
      "1                   0.083524                  0.251831             0.005128   \n",
      "2                   0.083524                  0.118062             0.005128   \n",
      "3                   0.083524                  1.000000             0.010256   \n",
      "4                   0.083524                  0.862990             0.005128   \n",
      "\n",
      "  user_cluster  order_rank  \n",
      "0           13    0.330189  \n",
      "1           13    0.330189  \n",
      "2           13    0.330189  \n",
      "3           13    0.330189  \n",
      "4           13    0.330189  \n"
     ]
    }
   ],
   "source": [
    "from sklearn.preprocessing import MinMaxScaler\n",
    "\n",
    "# Названия столбцов для масштабирования, включая дату и новые признаки\n",
    "columns_to_scale = [\n",
    "       'avg_purchases_per_user', 'avg_unique_carts_per_user',\n",
    "       'total_purchases_per_cart', 'user_cart_frequency',\n",
    "       'order_rank']\n",
    "\n",
    "# Создание и обучение масштабировщика\n",
    "scaler = MinMaxScaler()\n",
    "data[columns_to_scale] = scaler.fit_transform(data[columns_to_scale])\n",
    "\n",
    "# Проверка результатов\n",
    "print(data.head())\n"
   ]
  },
  {
   "cell_type": "code",
   "execution_count": 214,
   "metadata": {},
   "outputs": [
    {
     "data": {
      "text/plain": [
       "Index(['user_id', 'order_completed_at', 'cart', 'target',\n",
       "       'avg_purchases_per_user', 'avg_unique_carts_per_user',\n",
       "       'total_purchases_per_cart', 'user_cart_frequency', 'user_cluster',\n",
       "       'order_rank'],\n",
       "      dtype='object')"
      ]
     },
     "execution_count": 214,
     "metadata": {},
     "output_type": "execute_result"
    }
   ],
   "source": [
    "data.columns"
   ]
  },
  {
   "cell_type": "code",
   "execution_count": 215,
   "metadata": {},
   "outputs": [],
   "source": [
    "data = data.drop(['order_completed_at','total_purchases_per_cart'], axis = 1)"
   ]
  },
  {
   "cell_type": "markdown",
   "metadata": {},
   "source": [
    "делим на тест и трейн"
   ]
  },
  {
   "cell_type": "code",
   "execution_count": 216,
   "metadata": {},
   "outputs": [
    {
     "name": "stdout",
     "output_type": "stream",
     "text": [
      "Тренировочные данные: (4679702, 8)\n",
      "Тестовые данные: (1566426, 8)\n"
     ]
    }
   ],
   "source": [
    "\n",
    "# Инициализация пустых списков для тренировочных и тестовых данных\n",
    "train_data = []\n",
    "test_data = []\n",
    "\n",
    "# Группировка данных по 'user_id' и итерация по каждой группе\n",
    "for _, group_data in data.groupby('user_id'):\n",
    "    # Разделение данных каждого пользователя\n",
    "    train_group, test_group = train_test_split(group_data, test_size=0.25, random_state=42)\n",
    "    # Добавление в соответствующие списки\n",
    "    train_data.append(train_group)\n",
    "    test_data.append(test_group)\n",
    "\n",
    "# Объединение всех тренировочных и тестовых групп в DataFrame\n",
    "train_df = pd.concat(train_data).reset_index(drop=True)\n",
    "test_df = pd.concat(test_data).reset_index(drop=True)\n",
    "\n",
    "# Проверка результатов\n",
    "print(f\"Тренировочные данные: {train_df.shape}\")\n",
    "print(f\"Тестовые данные: {test_df.shape}\")\n"
   ]
  },
  {
   "cell_type": "code",
   "execution_count": 217,
   "metadata": {},
   "outputs": [
    {
     "name": "stderr",
     "output_type": "stream",
     "text": [
      "/Library/Frameworks/Python.framework/Versions/3.12/lib/python3.12/pty.py:95: DeprecationWarning: This process (pid=64763) is multi-threaded, use of forkpty() may lead to deadlocks in the child.\n",
      "  pid, fd = os.forkpty()\n"
     ]
    },
    {
     "name": "stdout",
     "output_type": "stream",
     "text": [
      "Requirement already satisfied: catboost in /Library/Frameworks/Python.framework/Versions/3.12/lib/python3.12/site-packages (1.2.3)\n",
      "Requirement already satisfied: graphviz in /Library/Frameworks/Python.framework/Versions/3.12/lib/python3.12/site-packages (from catboost) (0.20.1)\n",
      "Requirement already satisfied: matplotlib in /Library/Frameworks/Python.framework/Versions/3.12/lib/python3.12/site-packages (from catboost) (3.8.2)\n",
      "Requirement already satisfied: numpy>=1.16.0 in /Library/Frameworks/Python.framework/Versions/3.12/lib/python3.12/site-packages (from catboost) (1.26.2)\n",
      "Requirement already satisfied: pandas>=0.24 in /Library/Frameworks/Python.framework/Versions/3.12/lib/python3.12/site-packages (from catboost) (2.1.3)\n",
      "Requirement already satisfied: scipy in /Library/Frameworks/Python.framework/Versions/3.12/lib/python3.12/site-packages (from catboost) (1.11.4)\n",
      "Requirement already satisfied: plotly in /Library/Frameworks/Python.framework/Versions/3.12/lib/python3.12/site-packages (from catboost) (5.19.0)\n",
      "Requirement already satisfied: six in /Users/boorzik/Library/Python/3.12/lib/python/site-packages (from catboost) (1.16.0)\n",
      "Requirement already satisfied: python-dateutil>=2.8.2 in /Users/boorzik/Library/Python/3.12/lib/python/site-packages (from pandas>=0.24->catboost) (2.8.2)\n",
      "Requirement already satisfied: pytz>=2020.1 in /Library/Frameworks/Python.framework/Versions/3.12/lib/python3.12/site-packages (from pandas>=0.24->catboost) (2023.3.post1)\n",
      "Requirement already satisfied: tzdata>=2022.1 in /Library/Frameworks/Python.framework/Versions/3.12/lib/python3.12/site-packages (from pandas>=0.24->catboost) (2023.3)\n",
      "Requirement already satisfied: contourpy>=1.0.1 in /Library/Frameworks/Python.framework/Versions/3.12/lib/python3.12/site-packages (from matplotlib->catboost) (1.2.0)\n",
      "Requirement already satisfied: cycler>=0.10 in /Library/Frameworks/Python.framework/Versions/3.12/lib/python3.12/site-packages (from matplotlib->catboost) (0.12.1)\n",
      "Requirement already satisfied: fonttools>=4.22.0 in /Library/Frameworks/Python.framework/Versions/3.12/lib/python3.12/site-packages (from matplotlib->catboost) (4.45.1)\n",
      "Requirement already satisfied: kiwisolver>=1.3.1 in /Library/Frameworks/Python.framework/Versions/3.12/lib/python3.12/site-packages (from matplotlib->catboost) (1.4.5)\n",
      "Requirement already satisfied: packaging>=20.0 in /Users/boorzik/Library/Python/3.12/lib/python/site-packages (from matplotlib->catboost) (23.2)\n",
      "Requirement already satisfied: pillow>=8 in /Library/Frameworks/Python.framework/Versions/3.12/lib/python3.12/site-packages (from matplotlib->catboost) (10.1.0)\n",
      "Requirement already satisfied: pyparsing>=2.3.1 in /Library/Frameworks/Python.framework/Versions/3.12/lib/python3.12/site-packages (from matplotlib->catboost) (3.1.1)\n",
      "Requirement already satisfied: tenacity>=6.2.0 in /Library/Frameworks/Python.framework/Versions/3.12/lib/python3.12/site-packages (from plotly->catboost) (8.2.3)\n",
      "Note: you may need to restart the kernel to use updated packages.\n"
     ]
    }
   ],
   "source": [
    "pip install catboost\n"
   ]
  },
  {
   "cell_type": "code",
   "execution_count": 218,
   "metadata": {},
   "outputs": [
    {
     "name": "stdout",
     "output_type": "stream",
     "text": [
      "X_train: (4679702, 6), y_train: (4679702,)\n",
      "X_test: (1566426, 6), y_test: (1566426,)\n"
     ]
    }
   ],
   "source": [
    "# Разделение тренировочного набора данных на признаки и целевую переменную\n",
    "X_train = train_df.drop(['target','user_id'], axis=1)\n",
    "y_train = train_df['target']\n",
    "\n",
    "# Если тестовый набор данных содержит целевую переменную\n",
    "X_test = test_df.drop(['target','user_id'], axis=1)\n",
    "y_test = test_df['target']\n",
    "\n",
    "# Вывод размерности для проверки\n",
    "print(f\"X_train: {X_train.shape}, y_train: {y_train.shape}\")\n",
    "print(f\"X_test: {X_test.shape}, y_test: {y_test.shape}\")"
   ]
  },
  {
   "cell_type": "code",
   "execution_count": 219,
   "metadata": {},
   "outputs": [],
   "source": [
    "from catboost import Pool\n"
   ]
  },
  {
   "cell_type": "code",
   "execution_count": 220,
   "metadata": {},
   "outputs": [],
   "source": [
    "# train_pool = Pool(data=X_train, label=y_train, cat_features=cat_features)\n",
    "# test_pool = Pool(data=X_test, label=y_test, cat_features=cat_features)\n"
   ]
  },
  {
   "cell_type": "code",
   "execution_count": 221,
   "metadata": {},
   "outputs": [
    {
     "data": {
      "text/plain": [
       "dtype('O')"
      ]
     },
     "execution_count": 221,
     "metadata": {},
     "output_type": "execute_result"
    }
   ],
   "source": [
    "X_train['user_cluster'].dtype"
   ]
  },
  {
   "cell_type": "code",
   "execution_count": 222,
   "metadata": {},
   "outputs": [],
   "source": [
    "from catboost import CatBoostClassifier\n",
    "from sklearn.metrics import f1_score"
   ]
  },
  {
   "cell_type": "code",
   "execution_count": 223,
   "metadata": {},
   "outputs": [
    {
     "name": "stderr",
     "output_type": "stream",
     "text": [
      "/Library/Frameworks/Python.framework/Versions/3.12/lib/python3.12/pty.py:95: DeprecationWarning: This process (pid=64763) is multi-threaded, use of forkpty() may lead to deadlocks in the child.\n",
      "  pid, fd = os.forkpty()\n"
     ]
    },
    {
     "name": "stdout",
     "output_type": "stream",
     "text": [
      "Requirement already satisfied: ipywidgets in /Library/Frameworks/Python.framework/Versions/3.12/lib/python3.12/site-packages (8.1.2)\n",
      "Requirement already satisfied: comm>=0.1.3 in /Users/boorzik/Library/Python/3.12/lib/python/site-packages (from ipywidgets) (0.2.0)\n",
      "Requirement already satisfied: ipython>=6.1.0 in /Users/boorzik/Library/Python/3.12/lib/python/site-packages (from ipywidgets) (8.17.2)\n",
      "Requirement already satisfied: traitlets>=4.3.1 in /Users/boorzik/Library/Python/3.12/lib/python/site-packages (from ipywidgets) (5.13.0)\n",
      "Requirement already satisfied: widgetsnbextension~=4.0.10 in /Library/Frameworks/Python.framework/Versions/3.12/lib/python3.12/site-packages (from ipywidgets) (4.0.10)\n",
      "Requirement already satisfied: jupyterlab-widgets~=3.0.10 in /Library/Frameworks/Python.framework/Versions/3.12/lib/python3.12/site-packages (from ipywidgets) (3.0.10)\n",
      "Requirement already satisfied: decorator in /Users/boorzik/Library/Python/3.12/lib/python/site-packages (from ipython>=6.1.0->ipywidgets) (5.1.1)\n",
      "Requirement already satisfied: jedi>=0.16 in /Users/boorzik/Library/Python/3.12/lib/python/site-packages (from ipython>=6.1.0->ipywidgets) (0.19.1)\n",
      "Requirement already satisfied: matplotlib-inline in /Users/boorzik/Library/Python/3.12/lib/python/site-packages (from ipython>=6.1.0->ipywidgets) (0.1.6)\n",
      "Requirement already satisfied: prompt-toolkit!=3.0.37,<3.1.0,>=3.0.30 in /Users/boorzik/Library/Python/3.12/lib/python/site-packages (from ipython>=6.1.0->ipywidgets) (3.0.41)\n",
      "Requirement already satisfied: pygments>=2.4.0 in /Users/boorzik/Library/Python/3.12/lib/python/site-packages (from ipython>=6.1.0->ipywidgets) (2.16.1)\n",
      "Requirement already satisfied: stack-data in /Users/boorzik/Library/Python/3.12/lib/python/site-packages (from ipython>=6.1.0->ipywidgets) (0.6.3)\n",
      "Requirement already satisfied: pexpect>4.3 in /Users/boorzik/Library/Python/3.12/lib/python/site-packages (from ipython>=6.1.0->ipywidgets) (4.8.0)\n",
      "Requirement already satisfied: appnope in /Users/boorzik/Library/Python/3.12/lib/python/site-packages (from ipython>=6.1.0->ipywidgets) (0.1.3)\n",
      "Requirement already satisfied: parso<0.9.0,>=0.8.3 in /Users/boorzik/Library/Python/3.12/lib/python/site-packages (from jedi>=0.16->ipython>=6.1.0->ipywidgets) (0.8.3)\n",
      "Requirement already satisfied: ptyprocess>=0.5 in /Users/boorzik/Library/Python/3.12/lib/python/site-packages (from pexpect>4.3->ipython>=6.1.0->ipywidgets) (0.7.0)\n",
      "Requirement already satisfied: wcwidth in /Users/boorzik/Library/Python/3.12/lib/python/site-packages (from prompt-toolkit!=3.0.37,<3.1.0,>=3.0.30->ipython>=6.1.0->ipywidgets) (0.2.10)\n",
      "Requirement already satisfied: executing>=1.2.0 in /Users/boorzik/Library/Python/3.12/lib/python/site-packages (from stack-data->ipython>=6.1.0->ipywidgets) (2.0.1)\n",
      "Requirement already satisfied: asttokens>=2.1.0 in /Users/boorzik/Library/Python/3.12/lib/python/site-packages (from stack-data->ipython>=6.1.0->ipywidgets) (2.4.1)\n",
      "Requirement already satisfied: pure-eval in /Users/boorzik/Library/Python/3.12/lib/python/site-packages (from stack-data->ipython>=6.1.0->ipywidgets) (0.2.2)\n",
      "Requirement already satisfied: six>=1.12.0 in /Users/boorzik/Library/Python/3.12/lib/python/site-packages (from asttokens>=2.1.0->stack-data->ipython>=6.1.0->ipywidgets) (1.16.0)\n",
      "Note: you may need to restart the kernel to use updated packages.\n"
     ]
    }
   ],
   "source": [
    "pip install ipywidgets"
   ]
  },
  {
   "cell_type": "code",
   "execution_count": 224,
   "metadata": {},
   "outputs": [
    {
     "data": {
      "application/vnd.jupyter.widget-view+json": {
       "model_id": "86cd4102b4454ca29dec9b385eca4c73",
       "version_major": 2,
       "version_minor": 0
      },
      "text/plain": [
       "MetricVisualizer(layout=Layout(align_self='stretch', height='500px'))"
      ]
     },
     "metadata": {},
     "output_type": "display_data"
    },
    {
     "name": "stdout",
     "output_type": "stream",
     "text": [
      "Training on fold [0/2]\n",
      "0:\tlearn: 0.7812338\ttest: 0.7812109\tbest: 0.7812109 (0)\ttotal: 478ms\tremaining: 47.4s\n",
      "99:\tlearn: 0.8823176\ttest: 0.8823170\tbest: 0.8823170 (99)\ttotal: 47.3s\tremaining: 0us\n",
      "\n",
      "bestTest = 0.8823169728\n",
      "bestIteration = 99\n",
      "\n",
      "Training on fold [1/2]\n",
      "0:\tlearn: 0.8168092\ttest: 0.8168355\tbest: 0.8168355 (0)\ttotal: 563ms\tremaining: 55.8s\n",
      "99:\tlearn: 0.8816193\ttest: 0.8815932\tbest: 0.8815932 (99)\ttotal: 50s\tremaining: 0us\n",
      "\n",
      "bestTest = 0.8815931807\n",
      "bestIteration = 99\n",
      "\n",
      "0:\tlearn: 0.7810416\ttotal: 505ms\tremaining: 50s\n",
      "99:\tlearn: 0.8798972\ttotal: 44.3s\tremaining: 0us\n"
     ]
    },
    {
     "data": {
      "text/plain": [
       "<catboost.core.CatBoostClassifier at 0x2a51c25a0>"
      ]
     },
     "execution_count": 224,
     "metadata": {},
     "output_type": "execute_result"
    }
   ],
   "source": [
    "from catboost import CatBoostClassifier, cv, Pool\n",
    "\n",
    "# Подготовка данных\n",
    "train_pool = Pool(data=X_train, label=y_train, cat_features=cat_features)\n",
    "\n",
    "params = {\n",
    "    'iterations': 100,\n",
    "    'learning_rate': 0.1,\n",
    "    'depth': 4,\n",
    "    'eval_metric': 'F1',\n",
    "    'loss_function': 'Logloss',  # Добавлен параметр loss_function\n",
    "    'verbose': 200,\n",
    "    # Указать другие параметры, если необходимо\n",
    "}\n",
    "\n",
    "# Кросс-валидация\n",
    "cv_results = cv(pool=train_pool, params=params, fold_count=2, plot=True)\n",
    "\n",
    "# После кросс-валидации можно обучить модель на всем обучающем наборе данных с лучшими параметрами\n",
    "model = CatBoostClassifier(**params)\n",
    "model.fit(train_pool)\n"
   ]
  },
  {
   "cell_type": "code",
   "execution_count": 225,
   "metadata": {},
   "outputs": [
    {
     "data": {
      "text/plain": [
       "target\n",
       "1.0    3123064\n",
       "0.0    3123064\n",
       "Name: count, dtype: int64"
      ]
     },
     "execution_count": 225,
     "metadata": {},
     "output_type": "execute_result"
    }
   ],
   "source": [
    "data.target.value_counts()"
   ]
  },
  {
   "cell_type": "code",
   "execution_count": 226,
   "metadata": {},
   "outputs": [],
   "source": [
    "# Получение важности признаков\n",
    "feature_importances = model.get_feature_importance(train_pool)\n"
   ]
  },
  {
   "cell_type": "code",
   "execution_count": 227,
   "metadata": {},
   "outputs": [
    {
     "data": {
      "image/png": "[encoded data removed]",
      "text/plain": [
       "<Figure size 640x480 with 1 Axes>"
      ]
     },
     "metadata": {},
     "output_type": "display_data"
    }
   ],
   "source": [
    "feature_names = X_train.columns\n",
    "plt.barh(range(len(feature_importances)), feature_importances)\n",
    "plt.yticks(range(len(feature_importances)), feature_names)\n",
    "plt.xlabel('Важность признака')\n",
    "plt.ylabel('Признак')\n",
    "plt.show()\n"
   ]
  },
  {
   "cell_type": "code",
   "execution_count": 228,
   "metadata": {},
   "outputs": [],
   "source": [
    "# Предсказание классов для тестового набора данных\n",
    "predictions = model.predict(X_test)\n",
    "\n",
    "# Для расчета вероятностей принадлежности к классам (если это необходимо)\n",
    "probabilities = model.predict_proba(X_test)[:, 1]\n",
    "\n",
    "# Затем вы можете вычислить любые метрики на основе этих предсказаний, например, F1-меру, точность, полноту и т.д.\n"
   ]
  },
  {
   "cell_type": "code",
   "execution_count": 229,
   "metadata": {},
   "outputs": [
    {
     "name": "stdout",
     "output_type": "stream",
     "text": [
      "F1 Score: 0.879604018423081\n",
      "Precision: 0.8782087486579861\n",
      "Recall: 0.8810037287625153\n",
      "AUC-ROC: 0.9480836712765706\n"
     ]
    }
   ],
   "source": [
    "# Расчет F1-меры\n",
    "f1 = f1_score(y_test, predictions)\n",
    "# Расчет точности\n",
    "precision = precision_score(y_test, predictions)\n",
    "# Расчет полноты\n",
    "recall = recall_score(y_test, predictions)\n",
    "# Расчет AUC-ROC\n",
    "auc_roc = roc_auc_score(y_test, probabilities)\n",
    "\n",
    "print(f\"F1 Score: {f1}\")\n",
    "print(f\"Precision: {precision}\")\n",
    "print(f\"Recall: {recall}\")\n",
    "print(f\"AUC-ROC: {auc_roc}\")"
   ]
  },
  {
   "cell_type": "markdown",
   "metadata": {},
   "source": [
    "#### Формируем наш тестовый датасет с предсказанными данными"
   ]
  },
  {
   "cell_type": "code",
   "execution_count": 230,
   "metadata": {},
   "outputs": [
    {
     "data": {
      "text/html": [
       "<div>\n",
       "<style scoped>\n",
       "    .dataframe tbody tr th:only-of-type {\n",
       "        vertical-align: middle;\n",
       "    }\n",
       "\n",
       "    .dataframe tbody tr th {\n",
       "        vertical-align: top;\n",
       "    }\n",
       "\n",
       "    .dataframe thead th {\n",
       "        text-align: right;\n",
       "    }\n",
       "</style>\n",
       "<table border=\"1\" class=\"dataframe\">\n",
       "  <thead>\n",
       "    <tr style=\"text-align: right;\">\n",
       "      <th></th>\n",
       "      <th>id</th>\n",
       "      <th>target</th>\n",
       "      <th>user_id</th>\n",
       "      <th>cart</th>\n",
       "    </tr>\n",
       "  </thead>\n",
       "  <tbody>\n",
       "    <tr>\n",
       "      <th>0</th>\n",
       "      <td>0;133</td>\n",
       "      <td>0</td>\n",
       "      <td>0</td>\n",
       "      <td>133</td>\n",
       "    </tr>\n",
       "    <tr>\n",
       "      <th>1</th>\n",
       "      <td>0;5</td>\n",
       "      <td>1</td>\n",
       "      <td>0</td>\n",
       "      <td>5</td>\n",
       "    </tr>\n",
       "    <tr>\n",
       "      <th>2</th>\n",
       "      <td>0;10</td>\n",
       "      <td>0</td>\n",
       "      <td>0</td>\n",
       "      <td>10</td>\n",
       "    </tr>\n",
       "    <tr>\n",
       "      <th>3</th>\n",
       "      <td>0;396</td>\n",
       "      <td>1</td>\n",
       "      <td>0</td>\n",
       "      <td>396</td>\n",
       "    </tr>\n",
       "    <tr>\n",
       "      <th>4</th>\n",
       "      <td>0;14</td>\n",
       "      <td>0</td>\n",
       "      <td>0</td>\n",
       "      <td>14</td>\n",
       "    </tr>\n",
       "    <tr>\n",
       "      <th>...</th>\n",
       "      <td>...</td>\n",
       "      <td>...</td>\n",
       "      <td>...</td>\n",
       "      <td>...</td>\n",
       "    </tr>\n",
       "    <tr>\n",
       "      <th>790444</th>\n",
       "      <td>19998;26</td>\n",
       "      <td>0</td>\n",
       "      <td>19998</td>\n",
       "      <td>26</td>\n",
       "    </tr>\n",
       "    <tr>\n",
       "      <th>790445</th>\n",
       "      <td>19998;31</td>\n",
       "      <td>0</td>\n",
       "      <td>19998</td>\n",
       "      <td>31</td>\n",
       "    </tr>\n",
       "    <tr>\n",
       "      <th>790446</th>\n",
       "      <td>19998;29</td>\n",
       "      <td>1</td>\n",
       "      <td>19998</td>\n",
       "      <td>29</td>\n",
       "    </tr>\n",
       "    <tr>\n",
       "      <th>790447</th>\n",
       "      <td>19998;798</td>\n",
       "      <td>1</td>\n",
       "      <td>19998</td>\n",
       "      <td>798</td>\n",
       "    </tr>\n",
       "    <tr>\n",
       "      <th>790448</th>\n",
       "      <td>19998;415</td>\n",
       "      <td>1</td>\n",
       "      <td>19998</td>\n",
       "      <td>415</td>\n",
       "    </tr>\n",
       "  </tbody>\n",
       "</table>\n",
       "<p>790449 rows × 4 columns</p>\n",
       "</div>"
      ],
      "text/plain": [
       "               id  target  user_id  cart\n",
       "0           0;133       0        0   133\n",
       "1             0;5       1        0     5\n",
       "2            0;10       0        0    10\n",
       "3           0;396       1        0   396\n",
       "4            0;14       0        0    14\n",
       "...           ...     ...      ...   ...\n",
       "790444   19998;26       0    19998    26\n",
       "790445   19998;31       0    19998    31\n",
       "790446   19998;29       1    19998    29\n",
       "790447  19998;798       1    19998   798\n",
       "790448  19998;415       1    19998   415\n",
       "\n",
       "[790449 rows x 4 columns]"
      ]
     },
     "execution_count": 230,
     "metadata": {},
     "output_type": "execute_result"
    }
   ],
   "source": [
    "sample"
   ]
  },
  {
   "cell_type": "code",
   "execution_count": 231,
   "metadata": {},
   "outputs": [],
   "source": [
    "sample_with_predictions = sample_with_predictions.drop(['id','target'], axis = 1)"
   ]
  },
  {
   "cell_type": "code",
   "execution_count": 232,
   "metadata": {},
   "outputs": [
    {
     "data": {
      "text/plain": [
       "user_cluster\n",
       "13    1357369\n",
       "2     1283579\n",
       "11     957568\n",
       "1      745482\n",
       "7      471361\n",
       "12     392264\n",
       "6      302526\n",
       "3      227469\n",
       "4      140447\n",
       "10     132528\n",
       "8       83384\n",
       "9       80795\n",
       "0       35311\n",
       "14      28792\n",
       "5        7253\n",
       "Name: count, dtype: int64"
      ]
     },
     "execution_count": 232,
     "metadata": {},
     "output_type": "execute_result"
    }
   ],
   "source": [
    "data.user_cluster.value_counts()"
   ]
  },
  {
   "cell_type": "code",
   "execution_count": 233,
   "metadata": {},
   "outputs": [],
   "source": [
    "# # Удаляем дубликаты из правой таблицы\n",
    "# data_unique = data.drop_duplicates(subset=['user_id', 'cart'], keep='first')\n",
    "\n",
    "# # Объединяем таблицы\n",
    "# extended_predictions = pd.merge(sample_with_predictions, data_unique[['user_id', 'cart', 'avg_purchases_per_user', 'avg_unique_carts_per_user', 'total_purchases_per_cart', 'user_cart_frequency', 'user_cluster', 'order_rank']], on=['user_id', 'cart'], how='left')\n",
    "\n",
    "# # Проверяем, что количество строк в объединенной таблице равно количеству строк в левой таблице\n",
    "# print(len(extended_predictions) == len(sample_with_predictions))\n"
   ]
  },
  {
   "cell_type": "code",
   "execution_count": 234,
   "metadata": {},
   "outputs": [
    {
     "name": "stderr",
     "output_type": "stream",
     "text": [
      "/var/folders/gp/np_mqm314xqggrjr1y0zxzsw0000gn/T/ipykernel_64763/531045293.py:5: SettingWithCopyWarning: \n",
      "A value is trying to be set on a copy of a slice from a DataFrame.\n",
      "Try using .loc[row_indexer,col_indexer] = value instead\n",
      "\n",
      "See the caveats in the documentation: https://pandas.pydata.org/pandas-docs/stable/user_guide/indexing.html#returning-a-view-versus-a-copy\n",
      "  data_unique['user_id'] = data_unique['user_id'].astype(str)\n",
      "/var/folders/gp/np_mqm314xqggrjr1y0zxzsw0000gn/T/ipykernel_64763/531045293.py:8: SettingWithCopyWarning: \n",
      "A value is trying to be set on a copy of a slice from a DataFrame.\n",
      "Try using .loc[row_indexer,col_indexer] = value instead\n",
      "\n",
      "See the caveats in the documentation: https://pandas.pydata.org/pandas-docs/stable/user_guide/indexing.html#returning-a-view-versus-a-copy\n",
      "  data_unique['cart'] = data_unique['cart'].astype(str)\n"
     ]
    },
    {
     "name": "stdout",
     "output_type": "stream",
     "text": [
      "True\n"
     ]
    }
   ],
   "source": [
    "# Удаляем дубликаты из правой таблицы по уникальным парам 'user_id' и 'cart'\n",
    "data_unique = data.drop_duplicates(subset=['user_id', 'cart'], keep='first')\n",
    "\n",
    "sample_with_predictions['user_id'] = sample_with_predictions['user_id'].astype(str)\n",
    "data_unique['user_id'] = data_unique['user_id'].astype(str)\n",
    "\n",
    "sample_with_predictions['cart'] = sample_with_predictions['cart'].astype(str)\n",
    "data_unique['cart'] = data_unique['cart'].astype(str)\n",
    "\n",
    "# После преобразования типов данных можно безопасно выполнять объединение\n",
    "extended_data = pd.merge(sample_with_predictions, data_unique[['user_id', 'cart', 'avg_purchases_per_user',\n",
    "                                                                'avg_unique_carts_per_user', 'user_cart_frequency', \n",
    "                                                                'order_rank']], \n",
    "                         on=['user_id', 'cart'], how='left')\n",
    "\n",
    "\n",
    "\n",
    "# Проверяем, что количество строк в объединенной таблице соответствует количеству строк в левой таблице\n",
    "print(len(extended_predictions) == len(sample_with_predictions))\n"
   ]
  },
  {
   "cell_type": "code",
   "execution_count": 235,
   "metadata": {},
   "outputs": [
    {
     "name": "stderr",
     "output_type": "stream",
     "text": [
      "/Library/Frameworks/Python.framework/Versions/3.12/lib/python3.12/site-packages/sklearn/cluster/_kmeans.py:1416: FutureWarning: The default value of `n_init` will change from 10 to 'auto' in 1.4. Set the value of `n_init` explicitly to suppress the warning\n",
      "  super()._check_params_vs_input(X, default_n_init=10)\n"
     ]
    }
   ],
   "source": [
    "features_for_clustering = ['avg_purchases_per_user', 'avg_unique_carts_per_user', 'user_cart_frequency']\n",
    "X_clustering = extended_data[features_for_clustering]\n",
    "\n",
    "# Масштабирование данных\n",
    "scaler = StandardScaler()\n",
    "X_scaled = scaler.fit_transform(X_clustering)\n",
    "\n",
    "# Кластеризация\n",
    "kmeans = KMeans(n_clusters=15, random_state=3146)\n",
    "extended_data['user_cluster'] = kmeans.fit_predict(X_scaled).astype(str)\n",
    "\n",
    "# Теперь extended_data содержит новый категориальный столбец 'user_cluster', готовый к использованию в предсказаниях\n"
   ]
  },
  {
   "cell_type": "code",
   "execution_count": 236,
   "metadata": {},
   "outputs": [
    {
     "data": {
      "text/html": [
       "<div>\n",
       "<style scoped>\n",
       "    .dataframe tbody tr th:only-of-type {\n",
       "        vertical-align: middle;\n",
       "    }\n",
       "\n",
       "    .dataframe tbody tr th {\n",
       "        vertical-align: top;\n",
       "    }\n",
       "\n",
       "    .dataframe thead th {\n",
       "        text-align: right;\n",
       "    }\n",
       "</style>\n",
       "<table border=\"1\" class=\"dataframe\">\n",
       "  <thead>\n",
       "    <tr style=\"text-align: right;\">\n",
       "      <th></th>\n",
       "      <th>user_id</th>\n",
       "      <th>cart</th>\n",
       "      <th>predicted_next_order_date</th>\n",
       "      <th>avg_purchases_per_user</th>\n",
       "      <th>avg_unique_carts_per_user</th>\n",
       "      <th>user_cart_frequency</th>\n",
       "      <th>user_cluster</th>\n",
       "      <th>order_rank</th>\n",
       "    </tr>\n",
       "  </thead>\n",
       "  <tbody>\n",
       "    <tr>\n",
       "      <th>0</th>\n",
       "      <td>0</td>\n",
       "      <td>133</td>\n",
       "      <td>2020-09-04 07:59:12</td>\n",
       "      <td>0.011698</td>\n",
       "      <td>0.084296</td>\n",
       "      <td>0.000000</td>\n",
       "      <td>4</td>\n",
       "      <td>0.665094</td>\n",
       "    </tr>\n",
       "    <tr>\n",
       "      <th>1</th>\n",
       "      <td>0</td>\n",
       "      <td>5</td>\n",
       "      <td>2020-09-04 07:59:12</td>\n",
       "      <td>0.011698</td>\n",
       "      <td>0.084296</td>\n",
       "      <td>0.000000</td>\n",
       "      <td>4</td>\n",
       "      <td>0.665094</td>\n",
       "    </tr>\n",
       "    <tr>\n",
       "      <th>2</th>\n",
       "      <td>0</td>\n",
       "      <td>10</td>\n",
       "      <td>2020-09-04 07:59:12</td>\n",
       "      <td>0.011698</td>\n",
       "      <td>0.084296</td>\n",
       "      <td>0.000000</td>\n",
       "      <td>4</td>\n",
       "      <td>0.665094</td>\n",
       "    </tr>\n",
       "    <tr>\n",
       "      <th>3</th>\n",
       "      <td>0</td>\n",
       "      <td>396</td>\n",
       "      <td>2020-09-04 07:59:12</td>\n",
       "      <td>0.011698</td>\n",
       "      <td>0.084296</td>\n",
       "      <td>0.000000</td>\n",
       "      <td>4</td>\n",
       "      <td>0.665094</td>\n",
       "    </tr>\n",
       "    <tr>\n",
       "      <th>4</th>\n",
       "      <td>0</td>\n",
       "      <td>14</td>\n",
       "      <td>2020-09-04 07:59:12</td>\n",
       "      <td>0.011698</td>\n",
       "      <td>0.084296</td>\n",
       "      <td>0.005128</td>\n",
       "      <td>4</td>\n",
       "      <td>0.330189</td>\n",
       "    </tr>\n",
       "    <tr>\n",
       "      <th>...</th>\n",
       "      <td>...</td>\n",
       "      <td>...</td>\n",
       "      <td>...</td>\n",
       "      <td>...</td>\n",
       "      <td>...</td>\n",
       "      <td>...</td>\n",
       "      <td>...</td>\n",
       "      <td>...</td>\n",
       "    </tr>\n",
       "    <tr>\n",
       "      <th>790444</th>\n",
       "      <td>19998</td>\n",
       "      <td>26</td>\n",
       "      <td>2020-09-03 16:54:54</td>\n",
       "      <td>0.004565</td>\n",
       "      <td>0.032333</td>\n",
       "      <td>0.000000</td>\n",
       "      <td>4</td>\n",
       "      <td>0.330189</td>\n",
       "    </tr>\n",
       "    <tr>\n",
       "      <th>790445</th>\n",
       "      <td>19998</td>\n",
       "      <td>31</td>\n",
       "      <td>2020-09-03 16:54:54</td>\n",
       "      <td>0.004565</td>\n",
       "      <td>0.032333</td>\n",
       "      <td>0.000000</td>\n",
       "      <td>4</td>\n",
       "      <td>0.330189</td>\n",
       "    </tr>\n",
       "    <tr>\n",
       "      <th>790446</th>\n",
       "      <td>19998</td>\n",
       "      <td>29</td>\n",
       "      <td>2020-09-03 16:54:54</td>\n",
       "      <td>0.004565</td>\n",
       "      <td>0.032333</td>\n",
       "      <td>0.000000</td>\n",
       "      <td>4</td>\n",
       "      <td>0.330189</td>\n",
       "    </tr>\n",
       "    <tr>\n",
       "      <th>790447</th>\n",
       "      <td>19998</td>\n",
       "      <td>798</td>\n",
       "      <td>2020-09-03 16:54:54</td>\n",
       "      <td>0.004565</td>\n",
       "      <td>0.032333</td>\n",
       "      <td>0.000000</td>\n",
       "      <td>4</td>\n",
       "      <td>1.000000</td>\n",
       "    </tr>\n",
       "    <tr>\n",
       "      <th>790448</th>\n",
       "      <td>19998</td>\n",
       "      <td>415</td>\n",
       "      <td>2020-09-03 16:54:54</td>\n",
       "      <td>0.004565</td>\n",
       "      <td>0.032333</td>\n",
       "      <td>0.005128</td>\n",
       "      <td>4</td>\n",
       "      <td>0.330189</td>\n",
       "    </tr>\n",
       "  </tbody>\n",
       "</table>\n",
       "<p>790449 rows × 8 columns</p>\n",
       "</div>"
      ],
      "text/plain": [
       "       user_id cart predicted_next_order_date  avg_purchases_per_user  \\\n",
       "0            0  133       2020-09-04 07:59:12                0.011698   \n",
       "1            0    5       2020-09-04 07:59:12                0.011698   \n",
       "2            0   10       2020-09-04 07:59:12                0.011698   \n",
       "3            0  396       2020-09-04 07:59:12                0.011698   \n",
       "4            0   14       2020-09-04 07:59:12                0.011698   \n",
       "...        ...  ...                       ...                     ...   \n",
       "790444   19998   26       2020-09-03 16:54:54                0.004565   \n",
       "790445   19998   31       2020-09-03 16:54:54                0.004565   \n",
       "790446   19998   29       2020-09-03 16:54:54                0.004565   \n",
       "790447   19998  798       2020-09-03 16:54:54                0.004565   \n",
       "790448   19998  415       2020-09-03 16:54:54                0.004565   \n",
       "\n",
       "        avg_unique_carts_per_user  user_cart_frequency user_cluster  \\\n",
       "0                        0.084296             0.000000            4   \n",
       "1                        0.084296             0.000000            4   \n",
       "2                        0.084296             0.000000            4   \n",
       "3                        0.084296             0.000000            4   \n",
       "4                        0.084296             0.005128            4   \n",
       "...                           ...                  ...          ...   \n",
       "790444                   0.032333             0.000000            4   \n",
       "790445                   0.032333             0.000000            4   \n",
       "790446                   0.032333             0.000000            4   \n",
       "790447                   0.032333             0.000000            4   \n",
       "790448                   0.032333             0.005128            4   \n",
       "\n",
       "        order_rank  \n",
       "0         0.665094  \n",
       "1         0.665094  \n",
       "2         0.665094  \n",
       "3         0.665094  \n",
       "4         0.330189  \n",
       "...            ...  \n",
       "790444    0.330189  \n",
       "790445    0.330189  \n",
       "790446    0.330189  \n",
       "790447    1.000000  \n",
       "790448    0.330189  \n",
       "\n",
       "[790449 rows x 8 columns]"
      ]
     },
     "execution_count": 236,
     "metadata": {},
     "output_type": "execute_result"
    }
   ],
   "source": [
    "extended_predictions"
   ]
  },
  {
   "cell_type": "code",
   "execution_count": 237,
   "metadata": {},
   "outputs": [
    {
     "data": {
      "text/plain": [
       "<bound method IndexOpsMixin.value_counts of 0         4\n",
       "1         4\n",
       "2         4\n",
       "3         4\n",
       "4         4\n",
       "         ..\n",
       "790444    4\n",
       "790445    4\n",
       "790446    4\n",
       "790447    4\n",
       "790448    4\n",
       "Name: user_cluster, Length: 790449, dtype: object>"
      ]
     },
     "execution_count": 237,
     "metadata": {},
     "output_type": "execute_result"
    }
   ],
   "source": [
    "extended_predictions.user_cluster.value_counts"
   ]
  },
  {
   "cell_type": "code",
   "execution_count": 238,
   "metadata": {},
   "outputs": [],
   "source": [
    "\n",
    "# extended_predictions['predicted_next_order_date'] = pd.to_datetime(extended_predictions['predicted_next_order_date'])\n",
    "\n",
    "# extended_predictions['day_of_week'] = extended_predictions['predicted_next_order_date'].dt.dayofweek.astype(str)\n",
    "\n",
    "# day_of_week_dummies = pd.get_dummies(extended_predictions['day_of_week'], prefix='day_of_week')\n",
    "\n",
    "# # Объединяем оригинальный DataFrame с новыми бинарными признаками\n",
    "# extended_predictions = pd.concat([extended_predictions, day_of_week_dummies], axis=1)\n",
    "\n",
    "# # Удаляем оригинальные столбцы даты и категориальных признаков, если они больше не нужны\n",
    "# extended_predictions.drop(['day_of_week'], axis=1, inplace=True)\n",
    "\n",
    "# # Проверяем результат\n",
    "# print(extended_predictions.head())\n"
   ]
  },
  {
   "cell_type": "code",
   "execution_count": 239,
   "metadata": {},
   "outputs": [
    {
     "data": {
      "text/plain": [
       "Index(['user_id', 'cart', 'predicted_next_order_date',\n",
       "       'avg_purchases_per_user', 'avg_unique_carts_per_user',\n",
       "       'user_cart_frequency', 'user_cluster', 'order_rank'],\n",
       "      dtype='object')"
      ]
     },
     "execution_count": 239,
     "metadata": {},
     "output_type": "execute_result"
    }
   ],
   "source": [
    "extended_predictions.columns"
   ]
  },
  {
   "cell_type": "code",
   "execution_count": 242,
   "metadata": {},
   "outputs": [
    {
     "name": "stdout",
     "output_type": "stream",
     "text": [
      "       user_id cart predicted_next_order_date  avg_purchases_per_user  \\\n",
      "0            0  133       2020-09-04 07:59:12                0.011698   \n",
      "1            0    5       2020-09-04 07:59:12                0.011698   \n",
      "2            0   10       2020-09-04 07:59:12                0.011698   \n",
      "3            0  396       2020-09-04 07:59:12                0.011698   \n",
      "4            0   14       2020-09-04 07:59:12                0.011698   \n",
      "...        ...  ...                       ...                     ...   \n",
      "790444   19998   26       2020-09-03 16:54:54                0.004565   \n",
      "790445   19998   31       2020-09-03 16:54:54                0.004565   \n",
      "790446   19998   29       2020-09-03 16:54:54                0.004565   \n",
      "790447   19998  798       2020-09-03 16:54:54                0.004565   \n",
      "790448   19998  415       2020-09-03 16:54:54                0.004565   \n",
      "\n",
      "        avg_unique_carts_per_user  user_cart_frequency user_cluster  \\\n",
      "0                        0.084296             0.000000            4   \n",
      "1                        0.084296             0.000000            4   \n",
      "2                        0.084296             0.000000            4   \n",
      "3                        0.084296             0.000000            4   \n",
      "4                        0.084296             0.007353            4   \n",
      "...                           ...                  ...          ...   \n",
      "790444                   0.032333             0.000000            4   \n",
      "790445                   0.032333             0.000000            4   \n",
      "790446                   0.032333             0.000000            4   \n",
      "790447                   0.032333             0.000000            4   \n",
      "790448                   0.032333             0.007353            4   \n",
      "\n",
      "        order_rank  \n",
      "0         0.664875  \n",
      "1         0.664875  \n",
      "2         0.664875  \n",
      "3         0.664875  \n",
      "4         0.329749  \n",
      "...            ...  \n",
      "790444    0.329749  \n",
      "790445    0.329749  \n",
      "790446    0.329749  \n",
      "790447    1.000000  \n",
      "790448    0.329749  \n",
      "\n",
      "[790449 rows x 8 columns]\n"
     ]
    }
   ],
   "source": [
    "# Названия столбцов для масштабирования, включая дату и новые признаки\n",
    "columns_to_scale = [\n",
    "       'avg_purchases_per_user', 'avg_unique_carts_per_user',\n",
    "        'user_cart_frequency',\n",
    "       'order_rank']\n",
    "\n",
    "# Создание и обучение масштабировщика\n",
    "scaler = MinMaxScaler()\n",
    "\n",
    "# Правильно масштабируем столбцы в extended_predictions\n",
    "extended_predictions[columns_to_scale] = scaler.fit_transform(extended_predictions[columns_to_scale])\n",
    "\n",
    "# Проверка результатов\n",
    "print(extended_predictions)\n"
   ]
  },
  {
   "cell_type": "code",
   "execution_count": 244,
   "metadata": {},
   "outputs": [],
   "source": [
    "X_for_prediction = extended_predictions.drop(['predicted_next_order_date', 'user_id'], axis=1)\n"
   ]
  },
  {
   "cell_type": "code",
   "execution_count": 245,
   "metadata": {},
   "outputs": [
    {
     "data": {
      "text/html": [
       "<div>\n",
       "<style scoped>\n",
       "    .dataframe tbody tr th:only-of-type {\n",
       "        vertical-align: middle;\n",
       "    }\n",
       "\n",
       "    .dataframe tbody tr th {\n",
       "        vertical-align: top;\n",
       "    }\n",
       "\n",
       "    .dataframe thead th {\n",
       "        text-align: right;\n",
       "    }\n",
       "</style>\n",
       "<table border=\"1\" class=\"dataframe\">\n",
       "  <thead>\n",
       "    <tr style=\"text-align: right;\">\n",
       "      <th></th>\n",
       "      <th>cart</th>\n",
       "      <th>avg_purchases_per_user</th>\n",
       "      <th>avg_unique_carts_per_user</th>\n",
       "      <th>user_cart_frequency</th>\n",
       "      <th>user_cluster</th>\n",
       "      <th>order_rank</th>\n",
       "    </tr>\n",
       "  </thead>\n",
       "  <tbody>\n",
       "    <tr>\n",
       "      <th>0</th>\n",
       "      <td>133</td>\n",
       "      <td>0.011698</td>\n",
       "      <td>0.084296</td>\n",
       "      <td>0.000000</td>\n",
       "      <td>4</td>\n",
       "      <td>0.664875</td>\n",
       "    </tr>\n",
       "    <tr>\n",
       "      <th>1</th>\n",
       "      <td>5</td>\n",
       "      <td>0.011698</td>\n",
       "      <td>0.084296</td>\n",
       "      <td>0.000000</td>\n",
       "      <td>4</td>\n",
       "      <td>0.664875</td>\n",
       "    </tr>\n",
       "    <tr>\n",
       "      <th>2</th>\n",
       "      <td>10</td>\n",
       "      <td>0.011698</td>\n",
       "      <td>0.084296</td>\n",
       "      <td>0.000000</td>\n",
       "      <td>4</td>\n",
       "      <td>0.664875</td>\n",
       "    </tr>\n",
       "    <tr>\n",
       "      <th>3</th>\n",
       "      <td>396</td>\n",
       "      <td>0.011698</td>\n",
       "      <td>0.084296</td>\n",
       "      <td>0.000000</td>\n",
       "      <td>4</td>\n",
       "      <td>0.664875</td>\n",
       "    </tr>\n",
       "    <tr>\n",
       "      <th>4</th>\n",
       "      <td>14</td>\n",
       "      <td>0.011698</td>\n",
       "      <td>0.084296</td>\n",
       "      <td>0.007353</td>\n",
       "      <td>4</td>\n",
       "      <td>0.329749</td>\n",
       "    </tr>\n",
       "    <tr>\n",
       "      <th>...</th>\n",
       "      <td>...</td>\n",
       "      <td>...</td>\n",
       "      <td>...</td>\n",
       "      <td>...</td>\n",
       "      <td>...</td>\n",
       "      <td>...</td>\n",
       "    </tr>\n",
       "    <tr>\n",
       "      <th>790444</th>\n",
       "      <td>26</td>\n",
       "      <td>0.004565</td>\n",
       "      <td>0.032333</td>\n",
       "      <td>0.000000</td>\n",
       "      <td>4</td>\n",
       "      <td>0.329749</td>\n",
       "    </tr>\n",
       "    <tr>\n",
       "      <th>790445</th>\n",
       "      <td>31</td>\n",
       "      <td>0.004565</td>\n",
       "      <td>0.032333</td>\n",
       "      <td>0.000000</td>\n",
       "      <td>4</td>\n",
       "      <td>0.329749</td>\n",
       "    </tr>\n",
       "    <tr>\n",
       "      <th>790446</th>\n",
       "      <td>29</td>\n",
       "      <td>0.004565</td>\n",
       "      <td>0.032333</td>\n",
       "      <td>0.000000</td>\n",
       "      <td>4</td>\n",
       "      <td>0.329749</td>\n",
       "    </tr>\n",
       "    <tr>\n",
       "      <th>790447</th>\n",
       "      <td>798</td>\n",
       "      <td>0.004565</td>\n",
       "      <td>0.032333</td>\n",
       "      <td>0.000000</td>\n",
       "      <td>4</td>\n",
       "      <td>1.000000</td>\n",
       "    </tr>\n",
       "    <tr>\n",
       "      <th>790448</th>\n",
       "      <td>415</td>\n",
       "      <td>0.004565</td>\n",
       "      <td>0.032333</td>\n",
       "      <td>0.007353</td>\n",
       "      <td>4</td>\n",
       "      <td>0.329749</td>\n",
       "    </tr>\n",
       "  </tbody>\n",
       "</table>\n",
       "<p>790449 rows × 6 columns</p>\n",
       "</div>"
      ],
      "text/plain": [
       "       cart  avg_purchases_per_user  avg_unique_carts_per_user  \\\n",
       "0       133                0.011698                   0.084296   \n",
       "1         5                0.011698                   0.084296   \n",
       "2        10                0.011698                   0.084296   \n",
       "3       396                0.011698                   0.084296   \n",
       "4        14                0.011698                   0.084296   \n",
       "...     ...                     ...                        ...   \n",
       "790444   26                0.004565                   0.032333   \n",
       "790445   31                0.004565                   0.032333   \n",
       "790446   29                0.004565                   0.032333   \n",
       "790447  798                0.004565                   0.032333   \n",
       "790448  415                0.004565                   0.032333   \n",
       "\n",
       "        user_cart_frequency user_cluster  order_rank  \n",
       "0                  0.000000            4    0.664875  \n",
       "1                  0.000000            4    0.664875  \n",
       "2                  0.000000            4    0.664875  \n",
       "3                  0.000000            4    0.664875  \n",
       "4                  0.007353            4    0.329749  \n",
       "...                     ...          ...         ...  \n",
       "790444             0.000000            4    0.329749  \n",
       "790445             0.000000            4    0.329749  \n",
       "790446             0.000000            4    0.329749  \n",
       "790447             0.000000            4    1.000000  \n",
       "790448             0.007353            4    0.329749  \n",
       "\n",
       "[790449 rows x 6 columns]"
      ]
     },
     "execution_count": 245,
     "metadata": {},
     "output_type": "execute_result"
    }
   ],
   "source": [
    "X_for_prediction"
   ]
  },
  {
   "cell_type": "code",
   "execution_count": 246,
   "metadata": {},
   "outputs": [],
   "source": [
    "# Получение предсказаний\n",
    "predictions = model.predict(X_for_prediction)\n"
   ]
  },
  {
   "cell_type": "code",
   "execution_count": 247,
   "metadata": {},
   "outputs": [
    {
     "data": {
      "text/plain": [
       "790449"
      ]
     },
     "execution_count": 247,
     "metadata": {},
     "output_type": "execute_result"
    }
   ],
   "source": [
    "len(predictions)"
   ]
  },
  {
   "cell_type": "code",
   "execution_count": 248,
   "metadata": {},
   "outputs": [],
   "source": [
    "sample['target'] = predictions"
   ]
  },
  {
   "cell_type": "code",
   "execution_count": 249,
   "metadata": {},
   "outputs": [],
   "source": [
    "sample.target = sample.target.astype(int)"
   ]
  },
  {
   "cell_type": "code",
   "execution_count": 250,
   "metadata": {},
   "outputs": [],
   "source": [
    "# Сохраняем обновленную таблицу sample в файл CSV (без индекса)\n",
    "sample.to_csv('sample.csv', index=False)"
   ]
  },
  {
   "cell_type": "code",
   "execution_count": null,
   "metadata": {},
   "outputs": [],
   "source": []
  },
  {
   "cell_type": "code",
   "execution_count": 251,
   "metadata": {},
   "outputs": [],
   "source": [
    "# Добавление предсказаний обратно в extended_predictions для анализа или сохранения\n",
    "extended_predictions['predicted_target'] = predictions"
   ]
  },
  {
   "cell_type": "code",
   "execution_count": 252,
   "metadata": {},
   "outputs": [
    {
     "data": {
      "text/plain": [
       "predicted_target\n",
       "1.0    589125\n",
       "0.0    201324\n",
       "Name: count, dtype: int64"
      ]
     },
     "execution_count": 252,
     "metadata": {},
     "output_type": "execute_result"
    }
   ],
   "source": [
    "extended_predictions.predicted_target.value_counts()"
   ]
  },
  {
   "cell_type": "code",
   "execution_count": 253,
   "metadata": {},
   "outputs": [
    {
     "data": {
      "text/html": [
       "<div>\n",
       "<style scoped>\n",
       "    .dataframe tbody tr th:only-of-type {\n",
       "        vertical-align: middle;\n",
       "    }\n",
       "\n",
       "    .dataframe tbody tr th {\n",
       "        vertical-align: top;\n",
       "    }\n",
       "\n",
       "    .dataframe thead th {\n",
       "        text-align: right;\n",
       "    }\n",
       "</style>\n",
       "<table border=\"1\" class=\"dataframe\">\n",
       "  <thead>\n",
       "    <tr style=\"text-align: right;\">\n",
       "      <th></th>\n",
       "      <th>user_id</th>\n",
       "      <th>cart</th>\n",
       "      <th>predicted_next_order_date</th>\n",
       "      <th>avg_purchases_per_user</th>\n",
       "      <th>avg_unique_carts_per_user</th>\n",
       "      <th>user_cart_frequency</th>\n",
       "      <th>user_cluster</th>\n",
       "      <th>order_rank</th>\n",
       "      <th>predicted_target</th>\n",
       "    </tr>\n",
       "  </thead>\n",
       "  <tbody>\n",
       "    <tr>\n",
       "      <th>0</th>\n",
       "      <td>0</td>\n",
       "      <td>133</td>\n",
       "      <td>2020-09-04 07:59:12</td>\n",
       "      <td>0.011698</td>\n",
       "      <td>0.084296</td>\n",
       "      <td>0.000000</td>\n",
       "      <td>4</td>\n",
       "      <td>0.664875</td>\n",
       "      <td>0.0</td>\n",
       "    </tr>\n",
       "    <tr>\n",
       "      <th>1</th>\n",
       "      <td>0</td>\n",
       "      <td>5</td>\n",
       "      <td>2020-09-04 07:59:12</td>\n",
       "      <td>0.011698</td>\n",
       "      <td>0.084296</td>\n",
       "      <td>0.000000</td>\n",
       "      <td>4</td>\n",
       "      <td>0.664875</td>\n",
       "      <td>1.0</td>\n",
       "    </tr>\n",
       "    <tr>\n",
       "      <th>2</th>\n",
       "      <td>0</td>\n",
       "      <td>10</td>\n",
       "      <td>2020-09-04 07:59:12</td>\n",
       "      <td>0.011698</td>\n",
       "      <td>0.084296</td>\n",
       "      <td>0.000000</td>\n",
       "      <td>4</td>\n",
       "      <td>0.664875</td>\n",
       "      <td>1.0</td>\n",
       "    </tr>\n",
       "    <tr>\n",
       "      <th>3</th>\n",
       "      <td>0</td>\n",
       "      <td>396</td>\n",
       "      <td>2020-09-04 07:59:12</td>\n",
       "      <td>0.011698</td>\n",
       "      <td>0.084296</td>\n",
       "      <td>0.000000</td>\n",
       "      <td>4</td>\n",
       "      <td>0.664875</td>\n",
       "      <td>1.0</td>\n",
       "    </tr>\n",
       "    <tr>\n",
       "      <th>4</th>\n",
       "      <td>0</td>\n",
       "      <td>14</td>\n",
       "      <td>2020-09-04 07:59:12</td>\n",
       "      <td>0.011698</td>\n",
       "      <td>0.084296</td>\n",
       "      <td>0.007353</td>\n",
       "      <td>4</td>\n",
       "      <td>0.329749</td>\n",
       "      <td>1.0</td>\n",
       "    </tr>\n",
       "    <tr>\n",
       "      <th>...</th>\n",
       "      <td>...</td>\n",
       "      <td>...</td>\n",
       "      <td>...</td>\n",
       "      <td>...</td>\n",
       "      <td>...</td>\n",
       "      <td>...</td>\n",
       "      <td>...</td>\n",
       "      <td>...</td>\n",
       "      <td>...</td>\n",
       "    </tr>\n",
       "    <tr>\n",
       "      <th>790444</th>\n",
       "      <td>19998</td>\n",
       "      <td>26</td>\n",
       "      <td>2020-09-03 16:54:54</td>\n",
       "      <td>0.004565</td>\n",
       "      <td>0.032333</td>\n",
       "      <td>0.000000</td>\n",
       "      <td>4</td>\n",
       "      <td>0.329749</td>\n",
       "      <td>1.0</td>\n",
       "    </tr>\n",
       "    <tr>\n",
       "      <th>790445</th>\n",
       "      <td>19998</td>\n",
       "      <td>31</td>\n",
       "      <td>2020-09-03 16:54:54</td>\n",
       "      <td>0.004565</td>\n",
       "      <td>0.032333</td>\n",
       "      <td>0.000000</td>\n",
       "      <td>4</td>\n",
       "      <td>0.329749</td>\n",
       "      <td>1.0</td>\n",
       "    </tr>\n",
       "    <tr>\n",
       "      <th>790446</th>\n",
       "      <td>19998</td>\n",
       "      <td>29</td>\n",
       "      <td>2020-09-03 16:54:54</td>\n",
       "      <td>0.004565</td>\n",
       "      <td>0.032333</td>\n",
       "      <td>0.000000</td>\n",
       "      <td>4</td>\n",
       "      <td>0.329749</td>\n",
       "      <td>1.0</td>\n",
       "    </tr>\n",
       "    <tr>\n",
       "      <th>790447</th>\n",
       "      <td>19998</td>\n",
       "      <td>798</td>\n",
       "      <td>2020-09-03 16:54:54</td>\n",
       "      <td>0.004565</td>\n",
       "      <td>0.032333</td>\n",
       "      <td>0.000000</td>\n",
       "      <td>4</td>\n",
       "      <td>1.000000</td>\n",
       "      <td>1.0</td>\n",
       "    </tr>\n",
       "    <tr>\n",
       "      <th>790448</th>\n",
       "      <td>19998</td>\n",
       "      <td>415</td>\n",
       "      <td>2020-09-03 16:54:54</td>\n",
       "      <td>0.004565</td>\n",
       "      <td>0.032333</td>\n",
       "      <td>0.007353</td>\n",
       "      <td>4</td>\n",
       "      <td>0.329749</td>\n",
       "      <td>1.0</td>\n",
       "    </tr>\n",
       "  </tbody>\n",
       "</table>\n",
       "<p>790449 rows × 9 columns</p>\n",
       "</div>"
      ],
      "text/plain": [
       "       user_id cart predicted_next_order_date  avg_purchases_per_user  \\\n",
       "0            0  133       2020-09-04 07:59:12                0.011698   \n",
       "1            0    5       2020-09-04 07:59:12                0.011698   \n",
       "2            0   10       2020-09-04 07:59:12                0.011698   \n",
       "3            0  396       2020-09-04 07:59:12                0.011698   \n",
       "4            0   14       2020-09-04 07:59:12                0.011698   \n",
       "...        ...  ...                       ...                     ...   \n",
       "790444   19998   26       2020-09-03 16:54:54                0.004565   \n",
       "790445   19998   31       2020-09-03 16:54:54                0.004565   \n",
       "790446   19998   29       2020-09-03 16:54:54                0.004565   \n",
       "790447   19998  798       2020-09-03 16:54:54                0.004565   \n",
       "790448   19998  415       2020-09-03 16:54:54                0.004565   \n",
       "\n",
       "        avg_unique_carts_per_user  user_cart_frequency user_cluster  \\\n",
       "0                        0.084296             0.000000            4   \n",
       "1                        0.084296             0.000000            4   \n",
       "2                        0.084296             0.000000            4   \n",
       "3                        0.084296             0.000000            4   \n",
       "4                        0.084296             0.007353            4   \n",
       "...                           ...                  ...          ...   \n",
       "790444                   0.032333             0.000000            4   \n",
       "790445                   0.032333             0.000000            4   \n",
       "790446                   0.032333             0.000000            4   \n",
       "790447                   0.032333             0.000000            4   \n",
       "790448                   0.032333             0.007353            4   \n",
       "\n",
       "        order_rank  predicted_target  \n",
       "0         0.664875               0.0  \n",
       "1         0.664875               1.0  \n",
       "2         0.664875               1.0  \n",
       "3         0.664875               1.0  \n",
       "4         0.329749               1.0  \n",
       "...            ...               ...  \n",
       "790444    0.329749               1.0  \n",
       "790445    0.329749               1.0  \n",
       "790446    0.329749               1.0  \n",
       "790447    1.000000               1.0  \n",
       "790448    0.329749               1.0  \n",
       "\n",
       "[790449 rows x 9 columns]"
      ]
     },
     "execution_count": 253,
     "metadata": {},
     "output_type": "execute_result"
    }
   ],
   "source": [
    "extended_predictions"
   ]
  },
  {
   "cell_type": "code",
   "execution_count": 254,
   "metadata": {},
   "outputs": [
    {
     "data": {
      "text/html": [
       "<div>\n",
       "<style scoped>\n",
       "    .dataframe tbody tr th:only-of-type {\n",
       "        vertical-align: middle;\n",
       "    }\n",
       "\n",
       "    .dataframe tbody tr th {\n",
       "        vertical-align: top;\n",
       "    }\n",
       "\n",
       "    .dataframe thead th {\n",
       "        text-align: right;\n",
       "    }\n",
       "</style>\n",
       "<table border=\"1\" class=\"dataframe\">\n",
       "  <thead>\n",
       "    <tr style=\"text-align: right;\">\n",
       "      <th></th>\n",
       "      <th>antecedents</th>\n",
       "      <th>consequents</th>\n",
       "      <th>antecedent support</th>\n",
       "      <th>consequent support</th>\n",
       "      <th>support</th>\n",
       "      <th>confidence</th>\n",
       "      <th>lift</th>\n",
       "      <th>leverage</th>\n",
       "      <th>conviction</th>\n",
       "      <th>zhangs_metric</th>\n",
       "    </tr>\n",
       "  </thead>\n",
       "  <tbody>\n",
       "    <tr>\n",
       "      <th>0</th>\n",
       "      <td>57</td>\n",
       "      <td>14</td>\n",
       "      <td>0.519933</td>\n",
       "      <td>0.448683</td>\n",
       "      <td>0.268455</td>\n",
       "      <td>0.516326</td>\n",
       "      <td>1.150757</td>\n",
       "      <td>0.035169</td>\n",
       "      <td>1.139851</td>\n",
       "      <td>0.272893</td>\n",
       "    </tr>\n",
       "    <tr>\n",
       "      <th>1</th>\n",
       "      <td>14</td>\n",
       "      <td>57</td>\n",
       "      <td>0.448683</td>\n",
       "      <td>0.519933</td>\n",
       "      <td>0.268455</td>\n",
       "      <td>0.598316</td>\n",
       "      <td>1.150757</td>\n",
       "      <td>0.035169</td>\n",
       "      <td>1.195138</td>\n",
       "      <td>0.237626</td>\n",
       "    </tr>\n",
       "    <tr>\n",
       "      <th>2</th>\n",
       "      <td>61</td>\n",
       "      <td>14</td>\n",
       "      <td>0.437156</td>\n",
       "      <td>0.448683</td>\n",
       "      <td>0.229774</td>\n",
       "      <td>0.525611</td>\n",
       "      <td>1.171452</td>\n",
       "      <td>0.033629</td>\n",
       "      <td>1.162161</td>\n",
       "      <td>0.260033</td>\n",
       "    </tr>\n",
       "    <tr>\n",
       "      <th>3</th>\n",
       "      <td>14</td>\n",
       "      <td>61</td>\n",
       "      <td>0.448683</td>\n",
       "      <td>0.437156</td>\n",
       "      <td>0.229774</td>\n",
       "      <td>0.512107</td>\n",
       "      <td>1.171452</td>\n",
       "      <td>0.033629</td>\n",
       "      <td>1.153622</td>\n",
       "      <td>0.265470</td>\n",
       "    </tr>\n",
       "    <tr>\n",
       "      <th>4</th>\n",
       "      <td>398</td>\n",
       "      <td>14</td>\n",
       "      <td>0.390123</td>\n",
       "      <td>0.448683</td>\n",
       "      <td>0.216785</td>\n",
       "      <td>0.555683</td>\n",
       "      <td>1.238475</td>\n",
       "      <td>0.041743</td>\n",
       "      <td>1.240819</td>\n",
       "      <td>0.315728</td>\n",
       "    </tr>\n",
       "    <tr>\n",
       "      <th>5</th>\n",
       "      <td>14</td>\n",
       "      <td>398</td>\n",
       "      <td>0.448683</td>\n",
       "      <td>0.390123</td>\n",
       "      <td>0.216785</td>\n",
       "      <td>0.483157</td>\n",
       "      <td>1.238475</td>\n",
       "      <td>0.041743</td>\n",
       "      <td>1.180006</td>\n",
       "      <td>0.349265</td>\n",
       "    </tr>\n",
       "    <tr>\n",
       "      <th>6</th>\n",
       "      <td>57</td>\n",
       "      <td>22</td>\n",
       "      <td>0.519933</td>\n",
       "      <td>0.327011</td>\n",
       "      <td>0.219793</td>\n",
       "      <td>0.422734</td>\n",
       "      <td>1.292722</td>\n",
       "      <td>0.049770</td>\n",
       "      <td>1.165822</td>\n",
       "      <td>0.471681</td>\n",
       "    </tr>\n",
       "    <tr>\n",
       "      <th>7</th>\n",
       "      <td>22</td>\n",
       "      <td>57</td>\n",
       "      <td>0.327011</td>\n",
       "      <td>0.519933</td>\n",
       "      <td>0.219793</td>\n",
       "      <td>0.672128</td>\n",
       "      <td>1.292722</td>\n",
       "      <td>0.049770</td>\n",
       "      <td>1.464193</td>\n",
       "      <td>0.336467</td>\n",
       "    </tr>\n",
       "    <tr>\n",
       "      <th>8</th>\n",
       "      <td>57</td>\n",
       "      <td>23</td>\n",
       "      <td>0.519933</td>\n",
       "      <td>0.343051</td>\n",
       "      <td>0.216116</td>\n",
       "      <td>0.415662</td>\n",
       "      <td>1.211661</td>\n",
       "      <td>0.037753</td>\n",
       "      <td>1.124261</td>\n",
       "      <td>0.363879</td>\n",
       "    </tr>\n",
       "    <tr>\n",
       "      <th>9</th>\n",
       "      <td>23</td>\n",
       "      <td>57</td>\n",
       "      <td>0.343051</td>\n",
       "      <td>0.519933</td>\n",
       "      <td>0.216116</td>\n",
       "      <td>0.629982</td>\n",
       "      <td>1.211661</td>\n",
       "      <td>0.037753</td>\n",
       "      <td>1.297416</td>\n",
       "      <td>0.265906</td>\n",
       "    </tr>\n",
       "    <tr>\n",
       "      <th>10</th>\n",
       "      <td>57</td>\n",
       "      <td>61</td>\n",
       "      <td>0.519933</td>\n",
       "      <td>0.437156</td>\n",
       "      <td>0.310712</td>\n",
       "      <td>0.597601</td>\n",
       "      <td>1.367021</td>\n",
       "      <td>0.083421</td>\n",
       "      <td>1.398722</td>\n",
       "      <td>0.559260</td>\n",
       "    </tr>\n",
       "    <tr>\n",
       "      <th>11</th>\n",
       "      <td>61</td>\n",
       "      <td>57</td>\n",
       "      <td>0.437156</td>\n",
       "      <td>0.519933</td>\n",
       "      <td>0.310712</td>\n",
       "      <td>0.710759</td>\n",
       "      <td>1.367021</td>\n",
       "      <td>0.083421</td>\n",
       "      <td>1.659748</td>\n",
       "      <td>0.477010</td>\n",
       "    </tr>\n",
       "    <tr>\n",
       "      <th>12</th>\n",
       "      <td>57</td>\n",
       "      <td>84</td>\n",
       "      <td>0.519933</td>\n",
       "      <td>0.328142</td>\n",
       "      <td>0.220175</td>\n",
       "      <td>0.423469</td>\n",
       "      <td>1.290503</td>\n",
       "      <td>0.049563</td>\n",
       "      <td>1.165344</td>\n",
       "      <td>0.468909</td>\n",
       "    </tr>\n",
       "    <tr>\n",
       "      <th>13</th>\n",
       "      <td>84</td>\n",
       "      <td>57</td>\n",
       "      <td>0.328142</td>\n",
       "      <td>0.519933</td>\n",
       "      <td>0.220175</td>\n",
       "      <td>0.670974</td>\n",
       "      <td>1.290503</td>\n",
       "      <td>0.049563</td>\n",
       "      <td>1.459058</td>\n",
       "      <td>0.335053</td>\n",
       "    </tr>\n",
       "    <tr>\n",
       "      <th>14</th>\n",
       "      <td>57</td>\n",
       "      <td>398</td>\n",
       "      <td>0.519933</td>\n",
       "      <td>0.390123</td>\n",
       "      <td>0.251994</td>\n",
       "      <td>0.484666</td>\n",
       "      <td>1.242343</td>\n",
       "      <td>0.049156</td>\n",
       "      <td>1.183461</td>\n",
       "      <td>0.406338</td>\n",
       "    </tr>\n",
       "    <tr>\n",
       "      <th>15</th>\n",
       "      <td>398</td>\n",
       "      <td>57</td>\n",
       "      <td>0.390123</td>\n",
       "      <td>0.519933</td>\n",
       "      <td>0.251994</td>\n",
       "      <td>0.645935</td>\n",
       "      <td>1.242343</td>\n",
       "      <td>0.049156</td>\n",
       "      <td>1.355873</td>\n",
       "      <td>0.319851</td>\n",
       "    </tr>\n",
       "    <tr>\n",
       "      <th>16</th>\n",
       "      <td>61</td>\n",
       "      <td>398</td>\n",
       "      <td>0.437156</td>\n",
       "      <td>0.390123</td>\n",
       "      <td>0.215022</td>\n",
       "      <td>0.491867</td>\n",
       "      <td>1.260802</td>\n",
       "      <td>0.044478</td>\n",
       "      <td>1.200232</td>\n",
       "      <td>0.367515</td>\n",
       "    </tr>\n",
       "    <tr>\n",
       "      <th>17</th>\n",
       "      <td>398</td>\n",
       "      <td>61</td>\n",
       "      <td>0.390123</td>\n",
       "      <td>0.437156</td>\n",
       "      <td>0.215022</td>\n",
       "      <td>0.551167</td>\n",
       "      <td>1.260802</td>\n",
       "      <td>0.044478</td>\n",
       "      <td>1.254016</td>\n",
       "      <td>0.339173</td>\n",
       "    </tr>\n",
       "  </tbody>\n",
       "</table>\n",
       "</div>"
      ],
      "text/plain": [
       "    antecedents  consequents  antecedent support  consequent support  \\\n",
       "0            57           14            0.519933            0.448683   \n",
       "1            14           57            0.448683            0.519933   \n",
       "2            61           14            0.437156            0.448683   \n",
       "3            14           61            0.448683            0.437156   \n",
       "4           398           14            0.390123            0.448683   \n",
       "5            14          398            0.448683            0.390123   \n",
       "6            57           22            0.519933            0.327011   \n",
       "7            22           57            0.327011            0.519933   \n",
       "8            57           23            0.519933            0.343051   \n",
       "9            23           57            0.343051            0.519933   \n",
       "10           57           61            0.519933            0.437156   \n",
       "11           61           57            0.437156            0.519933   \n",
       "12           57           84            0.519933            0.328142   \n",
       "13           84           57            0.328142            0.519933   \n",
       "14           57          398            0.519933            0.390123   \n",
       "15          398           57            0.390123            0.519933   \n",
       "16           61          398            0.437156            0.390123   \n",
       "17          398           61            0.390123            0.437156   \n",
       "\n",
       "     support  confidence      lift  leverage  conviction  zhangs_metric  \n",
       "0   0.268455    0.516326  1.150757  0.035169    1.139851       0.272893  \n",
       "1   0.268455    0.598316  1.150757  0.035169    1.195138       0.237626  \n",
       "2   0.229774    0.525611  1.171452  0.033629    1.162161       0.260033  \n",
       "3   0.229774    0.512107  1.171452  0.033629    1.153622       0.265470  \n",
       "4   0.216785    0.555683  1.238475  0.041743    1.240819       0.315728  \n",
       "5   0.216785    0.483157  1.238475  0.041743    1.180006       0.349265  \n",
       "6   0.219793    0.422734  1.292722  0.049770    1.165822       0.471681  \n",
       "7   0.219793    0.672128  1.292722  0.049770    1.464193       0.336467  \n",
       "8   0.216116    0.415662  1.211661  0.037753    1.124261       0.363879  \n",
       "9   0.216116    0.629982  1.211661  0.037753    1.297416       0.265906  \n",
       "10  0.310712    0.597601  1.367021  0.083421    1.398722       0.559260  \n",
       "11  0.310712    0.710759  1.367021  0.083421    1.659748       0.477010  \n",
       "12  0.220175    0.423469  1.290503  0.049563    1.165344       0.468909  \n",
       "13  0.220175    0.670974  1.290503  0.049563    1.459058       0.335053  \n",
       "14  0.251994    0.484666  1.242343  0.049156    1.183461       0.406338  \n",
       "15  0.251994    0.645935  1.242343  0.049156    1.355873       0.319851  \n",
       "16  0.215022    0.491867  1.260802  0.044478    1.200232       0.367515  \n",
       "17  0.215022    0.551167  1.260802  0.044478    1.254016       0.339173  "
      ]
     },
     "execution_count": 254,
     "metadata": {},
     "output_type": "execute_result"
    }
   ],
   "source": [
    "rules"
   ]
  },
  {
   "cell_type": "code",
   "execution_count": 255,
   "metadata": {},
   "outputs": [
    {
     "data": {
      "text/plain": [
       "Index(['user_id', 'cart', 'predicted_next_order_date',\n",
       "       'avg_purchases_per_user', 'avg_unique_carts_per_user',\n",
       "       'user_cart_frequency', 'user_cluster', 'order_rank',\n",
       "       'predicted_target'],\n",
       "      dtype='object')"
      ]
     },
     "execution_count": 255,
     "metadata": {},
     "output_type": "execute_result"
    }
   ],
   "source": [
    "extended_predictions.columns"
   ]
  },
  {
   "cell_type": "code",
   "execution_count": 256,
   "metadata": {},
   "outputs": [],
   "source": [
    "extended_predictions = extended_predictions[['user_id', 'cart', 'predicted_next_order_date', 'predicted_target']]\n"
   ]
  },
  {
   "cell_type": "code",
   "execution_count": 257,
   "metadata": {},
   "outputs": [
    {
     "data": {
      "text/html": [
       "<div>\n",
       "<style scoped>\n",
       "    .dataframe tbody tr th:only-of-type {\n",
       "        vertical-align: middle;\n",
       "    }\n",
       "\n",
       "    .dataframe tbody tr th {\n",
       "        vertical-align: top;\n",
       "    }\n",
       "\n",
       "    .dataframe thead th {\n",
       "        text-align: right;\n",
       "    }\n",
       "</style>\n",
       "<table border=\"1\" class=\"dataframe\">\n",
       "  <thead>\n",
       "    <tr style=\"text-align: right;\">\n",
       "      <th></th>\n",
       "      <th>user_id</th>\n",
       "      <th>cart</th>\n",
       "      <th>predicted_next_order_date</th>\n",
       "      <th>predicted_target</th>\n",
       "    </tr>\n",
       "  </thead>\n",
       "  <tbody>\n",
       "    <tr>\n",
       "      <th>0</th>\n",
       "      <td>0</td>\n",
       "      <td>133</td>\n",
       "      <td>2020-09-04 07:59:12</td>\n",
       "      <td>0.0</td>\n",
       "    </tr>\n",
       "    <tr>\n",
       "      <th>1</th>\n",
       "      <td>0</td>\n",
       "      <td>5</td>\n",
       "      <td>2020-09-04 07:59:12</td>\n",
       "      <td>1.0</td>\n",
       "    </tr>\n",
       "    <tr>\n",
       "      <th>2</th>\n",
       "      <td>0</td>\n",
       "      <td>10</td>\n",
       "      <td>2020-09-04 07:59:12</td>\n",
       "      <td>1.0</td>\n",
       "    </tr>\n",
       "    <tr>\n",
       "      <th>3</th>\n",
       "      <td>0</td>\n",
       "      <td>396</td>\n",
       "      <td>2020-09-04 07:59:12</td>\n",
       "      <td>1.0</td>\n",
       "    </tr>\n",
       "    <tr>\n",
       "      <th>4</th>\n",
       "      <td>0</td>\n",
       "      <td>14</td>\n",
       "      <td>2020-09-04 07:59:12</td>\n",
       "      <td>1.0</td>\n",
       "    </tr>\n",
       "    <tr>\n",
       "      <th>...</th>\n",
       "      <td>...</td>\n",
       "      <td>...</td>\n",
       "      <td>...</td>\n",
       "      <td>...</td>\n",
       "    </tr>\n",
       "    <tr>\n",
       "      <th>790444</th>\n",
       "      <td>19998</td>\n",
       "      <td>26</td>\n",
       "      <td>2020-09-03 16:54:54</td>\n",
       "      <td>1.0</td>\n",
       "    </tr>\n",
       "    <tr>\n",
       "      <th>790445</th>\n",
       "      <td>19998</td>\n",
       "      <td>31</td>\n",
       "      <td>2020-09-03 16:54:54</td>\n",
       "      <td>1.0</td>\n",
       "    </tr>\n",
       "    <tr>\n",
       "      <th>790446</th>\n",
       "      <td>19998</td>\n",
       "      <td>29</td>\n",
       "      <td>2020-09-03 16:54:54</td>\n",
       "      <td>1.0</td>\n",
       "    </tr>\n",
       "    <tr>\n",
       "      <th>790447</th>\n",
       "      <td>19998</td>\n",
       "      <td>798</td>\n",
       "      <td>2020-09-03 16:54:54</td>\n",
       "      <td>1.0</td>\n",
       "    </tr>\n",
       "    <tr>\n",
       "      <th>790448</th>\n",
       "      <td>19998</td>\n",
       "      <td>415</td>\n",
       "      <td>2020-09-03 16:54:54</td>\n",
       "      <td>1.0</td>\n",
       "    </tr>\n",
       "  </tbody>\n",
       "</table>\n",
       "<p>790449 rows × 4 columns</p>\n",
       "</div>"
      ],
      "text/plain": [
       "       user_id cart predicted_next_order_date  predicted_target\n",
       "0            0  133       2020-09-04 07:59:12               0.0\n",
       "1            0    5       2020-09-04 07:59:12               1.0\n",
       "2            0   10       2020-09-04 07:59:12               1.0\n",
       "3            0  396       2020-09-04 07:59:12               1.0\n",
       "4            0   14       2020-09-04 07:59:12               1.0\n",
       "...        ...  ...                       ...               ...\n",
       "790444   19998   26       2020-09-03 16:54:54               1.0\n",
       "790445   19998   31       2020-09-03 16:54:54               1.0\n",
       "790446   19998   29       2020-09-03 16:54:54               1.0\n",
       "790447   19998  798       2020-09-03 16:54:54               1.0\n",
       "790448   19998  415       2020-09-03 16:54:54               1.0\n",
       "\n",
       "[790449 rows x 4 columns]"
      ]
     },
     "execution_count": 257,
     "metadata": {},
     "output_type": "execute_result"
    }
   ],
   "source": [
    "extended_predictions"
   ]
  },
  {
   "cell_type": "code",
   "execution_count": 258,
   "metadata": {},
   "outputs": [],
   "source": [
    "\n",
    "# # Сохраняем обновленную таблицу sample в файл CSV (без индекса)\n",
    "# merged.to_csv('pred.csv', index=False)"
   ]
  },
  {
   "cell_type": "markdown",
   "metadata": {},
   "source": [
    "добавим несколько едениц согласно правилам, которые выделили ранее, про товары, которые часто идут вместе"
   ]
  },
  {
   "cell_type": "code",
   "execution_count": 259,
   "metadata": {},
   "outputs": [],
   "source": [
    "def add_recommended_items(group):\n",
    "    # Получение списка товаров в текущем заказе\n",
    "    items_in_order = set(group['cart'])\n",
    "    # Список для хранения новых строк\n",
    "    new_rows = []\n",
    "    # Поиск правил, где antecedent присутствует в заказе\n",
    "    applicable_rules = rules[rules['antecedents'].apply(lambda x: x in items_in_order)]\n",
    "    for _, rule in applicable_rules.iterrows():\n",
    "        consequent = rule['consequents']\n",
    "        # Добавление новой строки, если consequent отсутствует в заказе\n",
    "        if consequent not in items_in_order:\n",
    "            new_row = group.iloc[0].copy()\n",
    "            new_row['cart'] = consequent\n",
    "            new_row['predicted_target'] = 1\n",
    "            new_rows.append(new_row)\n",
    "    # Возвращение новых строк в виде DataFrame\n",
    "    return pd.DataFrame(new_rows)\n",
    "\n",
    "# Применение функции к каждой группе и создание списка DataFrame'ов с новыми строками\n",
    "new_rows_list = extended_predictions.groupby(['user_id', 'predicted_next_order_date']).apply(add_recommended_items).reset_index(drop=True)\n",
    "\n",
    "# Объединение новых строк с исходным датасетом\n",
    "final_extended = pd.concat([extended_predictions, new_rows_list], ignore_index=True)\n"
   ]
  },
  {
   "cell_type": "code",
   "execution_count": 260,
   "metadata": {},
   "outputs": [
    {
     "data": {
      "text/html": [
       "<div>\n",
       "<style scoped>\n",
       "    .dataframe tbody tr th:only-of-type {\n",
       "        vertical-align: middle;\n",
       "    }\n",
       "\n",
       "    .dataframe tbody tr th {\n",
       "        vertical-align: top;\n",
       "    }\n",
       "\n",
       "    .dataframe thead th {\n",
       "        text-align: right;\n",
       "    }\n",
       "</style>\n",
       "<table border=\"1\" class=\"dataframe\">\n",
       "  <thead>\n",
       "    <tr style=\"text-align: right;\">\n",
       "      <th></th>\n",
       "      <th>user_id</th>\n",
       "      <th>cart</th>\n",
       "      <th>predicted_next_order_date</th>\n",
       "      <th>predicted_target</th>\n",
       "    </tr>\n",
       "  </thead>\n",
       "  <tbody>\n",
       "    <tr>\n",
       "      <th>0</th>\n",
       "      <td>0</td>\n",
       "      <td>133</td>\n",
       "      <td>2020-09-04 07:59:12</td>\n",
       "      <td>0.0</td>\n",
       "    </tr>\n",
       "    <tr>\n",
       "      <th>1</th>\n",
       "      <td>0</td>\n",
       "      <td>5</td>\n",
       "      <td>2020-09-04 07:59:12</td>\n",
       "      <td>1.0</td>\n",
       "    </tr>\n",
       "    <tr>\n",
       "      <th>2</th>\n",
       "      <td>0</td>\n",
       "      <td>10</td>\n",
       "      <td>2020-09-04 07:59:12</td>\n",
       "      <td>1.0</td>\n",
       "    </tr>\n",
       "    <tr>\n",
       "      <th>3</th>\n",
       "      <td>0</td>\n",
       "      <td>396</td>\n",
       "      <td>2020-09-04 07:59:12</td>\n",
       "      <td>1.0</td>\n",
       "    </tr>\n",
       "    <tr>\n",
       "      <th>4</th>\n",
       "      <td>0</td>\n",
       "      <td>14</td>\n",
       "      <td>2020-09-04 07:59:12</td>\n",
       "      <td>1.0</td>\n",
       "    </tr>\n",
       "    <tr>\n",
       "      <th>...</th>\n",
       "      <td>...</td>\n",
       "      <td>...</td>\n",
       "      <td>...</td>\n",
       "      <td>...</td>\n",
       "    </tr>\n",
       "    <tr>\n",
       "      <th>790444</th>\n",
       "      <td>19998</td>\n",
       "      <td>26</td>\n",
       "      <td>2020-09-03 16:54:54</td>\n",
       "      <td>1.0</td>\n",
       "    </tr>\n",
       "    <tr>\n",
       "      <th>790445</th>\n",
       "      <td>19998</td>\n",
       "      <td>31</td>\n",
       "      <td>2020-09-03 16:54:54</td>\n",
       "      <td>1.0</td>\n",
       "    </tr>\n",
       "    <tr>\n",
       "      <th>790446</th>\n",
       "      <td>19998</td>\n",
       "      <td>29</td>\n",
       "      <td>2020-09-03 16:54:54</td>\n",
       "      <td>1.0</td>\n",
       "    </tr>\n",
       "    <tr>\n",
       "      <th>790447</th>\n",
       "      <td>19998</td>\n",
       "      <td>798</td>\n",
       "      <td>2020-09-03 16:54:54</td>\n",
       "      <td>1.0</td>\n",
       "    </tr>\n",
       "    <tr>\n",
       "      <th>790448</th>\n",
       "      <td>19998</td>\n",
       "      <td>415</td>\n",
       "      <td>2020-09-03 16:54:54</td>\n",
       "      <td>1.0</td>\n",
       "    </tr>\n",
       "  </tbody>\n",
       "</table>\n",
       "<p>790449 rows × 4 columns</p>\n",
       "</div>"
      ],
      "text/plain": [
       "       user_id cart predicted_next_order_date  predicted_target\n",
       "0            0  133       2020-09-04 07:59:12               0.0\n",
       "1            0    5       2020-09-04 07:59:12               1.0\n",
       "2            0   10       2020-09-04 07:59:12               1.0\n",
       "3            0  396       2020-09-04 07:59:12               1.0\n",
       "4            0   14       2020-09-04 07:59:12               1.0\n",
       "...        ...  ...                       ...               ...\n",
       "790444   19998   26       2020-09-03 16:54:54               1.0\n",
       "790445   19998   31       2020-09-03 16:54:54               1.0\n",
       "790446   19998   29       2020-09-03 16:54:54               1.0\n",
       "790447   19998  798       2020-09-03 16:54:54               1.0\n",
       "790448   19998  415       2020-09-03 16:54:54               1.0\n",
       "\n",
       "[790449 rows x 4 columns]"
      ]
     },
     "execution_count": 260,
     "metadata": {},
     "output_type": "execute_result"
    }
   ],
   "source": [
    "final_extended"
   ]
  },
  {
   "cell_type": "code",
   "execution_count": 261,
   "metadata": {},
   "outputs": [
    {
     "data": {
      "text/plain": [
       "predicted_target\n",
       "1.0    589125\n",
       "0.0    201324\n",
       "Name: count, dtype: int64"
      ]
     },
     "execution_count": 261,
     "metadata": {},
     "output_type": "execute_result"
    }
   ],
   "source": [
    "final_extended.predicted_target.value_counts()"
   ]
  },
  {
   "cell_type": "code",
   "execution_count": 262,
   "metadata": {},
   "outputs": [],
   "source": [
    "# Получаем список категорий, которые составляют нижние 80% по количеству\n",
    "bottom_80_categories = bottom_80_categories_last_half_year['cart'].tolist()\n",
    "\n",
    "# Добавляем новый столбец, который показывает, принадлежит ли товар к нижним 80% категорий\n",
    "final_extended['bottom_80_categories_last_half_year'] = final_extended['cart'].isin(bottom_80_categories)\n",
    "\n",
    "# Устанавливаем predicted_target в 0 для всех записей, где cart принадлежит к нижним 80% категорий\n",
    "final_extended.loc[final_extended['bottom_80_categories_last_half_year'], 'predicted_target'] = 0\n",
    "\n",
    "# Убираем вспомогательный столбец, если он вам больше не нужен\n",
    "final_extended.drop('bottom_80_categories_last_half_year', axis=1, inplace=True)\n"
   ]
  },
  {
   "cell_type": "code",
   "execution_count": 263,
   "metadata": {},
   "outputs": [
    {
     "data": {
      "text/plain": [
       "predicted_target\n",
       "1.0    589125\n",
       "0.0    201324\n",
       "Name: count, dtype: int64"
      ]
     },
     "execution_count": 263,
     "metadata": {},
     "output_type": "execute_result"
    }
   ],
   "source": [
    "final_extended.predicted_target.value_counts()"
   ]
  },
  {
   "cell_type": "code",
   "execution_count": 264,
   "metadata": {},
   "outputs": [],
   "source": [
    "sample = sample.drop(['target'],axis=1)"
   ]
  },
  {
   "cell_type": "code",
   "execution_count": 265,
   "metadata": {},
   "outputs": [
    {
     "data": {
      "text/html": [
       "<div>\n",
       "<style scoped>\n",
       "    .dataframe tbody tr th:only-of-type {\n",
       "        vertical-align: middle;\n",
       "    }\n",
       "\n",
       "    .dataframe tbody tr th {\n",
       "        vertical-align: top;\n",
       "    }\n",
       "\n",
       "    .dataframe thead th {\n",
       "        text-align: right;\n",
       "    }\n",
       "</style>\n",
       "<table border=\"1\" class=\"dataframe\">\n",
       "  <thead>\n",
       "    <tr style=\"text-align: right;\">\n",
       "      <th></th>\n",
       "      <th>id</th>\n",
       "      <th>user_id</th>\n",
       "      <th>cart</th>\n",
       "    </tr>\n",
       "  </thead>\n",
       "  <tbody>\n",
       "    <tr>\n",
       "      <th>0</th>\n",
       "      <td>0;133</td>\n",
       "      <td>0</td>\n",
       "      <td>133</td>\n",
       "    </tr>\n",
       "    <tr>\n",
       "      <th>1</th>\n",
       "      <td>0;5</td>\n",
       "      <td>0</td>\n",
       "      <td>5</td>\n",
       "    </tr>\n",
       "    <tr>\n",
       "      <th>2</th>\n",
       "      <td>0;10</td>\n",
       "      <td>0</td>\n",
       "      <td>10</td>\n",
       "    </tr>\n",
       "    <tr>\n",
       "      <th>3</th>\n",
       "      <td>0;396</td>\n",
       "      <td>0</td>\n",
       "      <td>396</td>\n",
       "    </tr>\n",
       "    <tr>\n",
       "      <th>4</th>\n",
       "      <td>0;14</td>\n",
       "      <td>0</td>\n",
       "      <td>14</td>\n",
       "    </tr>\n",
       "    <tr>\n",
       "      <th>...</th>\n",
       "      <td>...</td>\n",
       "      <td>...</td>\n",
       "      <td>...</td>\n",
       "    </tr>\n",
       "    <tr>\n",
       "      <th>790444</th>\n",
       "      <td>19998;26</td>\n",
       "      <td>19998</td>\n",
       "      <td>26</td>\n",
       "    </tr>\n",
       "    <tr>\n",
       "      <th>790445</th>\n",
       "      <td>19998;31</td>\n",
       "      <td>19998</td>\n",
       "      <td>31</td>\n",
       "    </tr>\n",
       "    <tr>\n",
       "      <th>790446</th>\n",
       "      <td>19998;29</td>\n",
       "      <td>19998</td>\n",
       "      <td>29</td>\n",
       "    </tr>\n",
       "    <tr>\n",
       "      <th>790447</th>\n",
       "      <td>19998;798</td>\n",
       "      <td>19998</td>\n",
       "      <td>798</td>\n",
       "    </tr>\n",
       "    <tr>\n",
       "      <th>790448</th>\n",
       "      <td>19998;415</td>\n",
       "      <td>19998</td>\n",
       "      <td>415</td>\n",
       "    </tr>\n",
       "  </tbody>\n",
       "</table>\n",
       "<p>790449 rows × 3 columns</p>\n",
       "</div>"
      ],
      "text/plain": [
       "               id  user_id  cart\n",
       "0           0;133        0   133\n",
       "1             0;5        0     5\n",
       "2            0;10        0    10\n",
       "3           0;396        0   396\n",
       "4            0;14        0    14\n",
       "...           ...      ...   ...\n",
       "790444   19998;26    19998    26\n",
       "790445   19998;31    19998    31\n",
       "790446   19998;29    19998    29\n",
       "790447  19998;798    19998   798\n",
       "790448  19998;415    19998   415\n",
       "\n",
       "[790449 rows x 3 columns]"
      ]
     },
     "execution_count": 265,
     "metadata": {},
     "output_type": "execute_result"
    }
   ],
   "source": [
    "sample"
   ]
  },
  {
   "cell_type": "code",
   "execution_count": 266,
   "metadata": {},
   "outputs": [
    {
     "data": {
      "text/html": [
       "<div>\n",
       "<style scoped>\n",
       "    .dataframe tbody tr th:only-of-type {\n",
       "        vertical-align: middle;\n",
       "    }\n",
       "\n",
       "    .dataframe tbody tr th {\n",
       "        vertical-align: top;\n",
       "    }\n",
       "\n",
       "    .dataframe thead th {\n",
       "        text-align: right;\n",
       "    }\n",
       "</style>\n",
       "<table border=\"1\" class=\"dataframe\">\n",
       "  <thead>\n",
       "    <tr style=\"text-align: right;\">\n",
       "      <th></th>\n",
       "      <th>user_id</th>\n",
       "      <th>cart</th>\n",
       "      <th>predicted_next_order_date</th>\n",
       "      <th>predicted_target</th>\n",
       "    </tr>\n",
       "  </thead>\n",
       "  <tbody>\n",
       "    <tr>\n",
       "      <th>0</th>\n",
       "      <td>0</td>\n",
       "      <td>133</td>\n",
       "      <td>2020-09-04 07:59:12</td>\n",
       "      <td>0.0</td>\n",
       "    </tr>\n",
       "    <tr>\n",
       "      <th>1</th>\n",
       "      <td>0</td>\n",
       "      <td>5</td>\n",
       "      <td>2020-09-04 07:59:12</td>\n",
       "      <td>1.0</td>\n",
       "    </tr>\n",
       "    <tr>\n",
       "      <th>2</th>\n",
       "      <td>0</td>\n",
       "      <td>10</td>\n",
       "      <td>2020-09-04 07:59:12</td>\n",
       "      <td>1.0</td>\n",
       "    </tr>\n",
       "    <tr>\n",
       "      <th>3</th>\n",
       "      <td>0</td>\n",
       "      <td>396</td>\n",
       "      <td>2020-09-04 07:59:12</td>\n",
       "      <td>1.0</td>\n",
       "    </tr>\n",
       "    <tr>\n",
       "      <th>4</th>\n",
       "      <td>0</td>\n",
       "      <td>14</td>\n",
       "      <td>2020-09-04 07:59:12</td>\n",
       "      <td>1.0</td>\n",
       "    </tr>\n",
       "    <tr>\n",
       "      <th>...</th>\n",
       "      <td>...</td>\n",
       "      <td>...</td>\n",
       "      <td>...</td>\n",
       "      <td>...</td>\n",
       "    </tr>\n",
       "    <tr>\n",
       "      <th>790444</th>\n",
       "      <td>19998</td>\n",
       "      <td>26</td>\n",
       "      <td>2020-09-03 16:54:54</td>\n",
       "      <td>1.0</td>\n",
       "    </tr>\n",
       "    <tr>\n",
       "      <th>790445</th>\n",
       "      <td>19998</td>\n",
       "      <td>31</td>\n",
       "      <td>2020-09-03 16:54:54</td>\n",
       "      <td>1.0</td>\n",
       "    </tr>\n",
       "    <tr>\n",
       "      <th>790446</th>\n",
       "      <td>19998</td>\n",
       "      <td>29</td>\n",
       "      <td>2020-09-03 16:54:54</td>\n",
       "      <td>1.0</td>\n",
       "    </tr>\n",
       "    <tr>\n",
       "      <th>790447</th>\n",
       "      <td>19998</td>\n",
       "      <td>798</td>\n",
       "      <td>2020-09-03 16:54:54</td>\n",
       "      <td>1.0</td>\n",
       "    </tr>\n",
       "    <tr>\n",
       "      <th>790448</th>\n",
       "      <td>19998</td>\n",
       "      <td>415</td>\n",
       "      <td>2020-09-03 16:54:54</td>\n",
       "      <td>1.0</td>\n",
       "    </tr>\n",
       "  </tbody>\n",
       "</table>\n",
       "<p>790449 rows × 4 columns</p>\n",
       "</div>"
      ],
      "text/plain": [
       "       user_id cart predicted_next_order_date  predicted_target\n",
       "0            0  133       2020-09-04 07:59:12               0.0\n",
       "1            0    5       2020-09-04 07:59:12               1.0\n",
       "2            0   10       2020-09-04 07:59:12               1.0\n",
       "3            0  396       2020-09-04 07:59:12               1.0\n",
       "4            0   14       2020-09-04 07:59:12               1.0\n",
       "...        ...  ...                       ...               ...\n",
       "790444   19998   26       2020-09-03 16:54:54               1.0\n",
       "790445   19998   31       2020-09-03 16:54:54               1.0\n",
       "790446   19998   29       2020-09-03 16:54:54               1.0\n",
       "790447   19998  798       2020-09-03 16:54:54               1.0\n",
       "790448   19998  415       2020-09-03 16:54:54               1.0\n",
       "\n",
       "[790449 rows x 4 columns]"
      ]
     },
     "execution_count": 266,
     "metadata": {},
     "output_type": "execute_result"
    }
   ],
   "source": [
    "final_extended"
   ]
  },
  {
   "cell_type": "code",
   "execution_count": 267,
   "metadata": {},
   "outputs": [],
   "source": [
    "sample[['user_id', 'cart']] = sample['id'].str.split(';', expand=True)"
   ]
  },
  {
   "cell_type": "code",
   "execution_count": 268,
   "metadata": {},
   "outputs": [],
   "source": [
    "final_extended.drop_duplicates(subset=['user_id', 'cart'], inplace=True)"
   ]
  },
  {
   "cell_type": "code",
   "execution_count": 269,
   "metadata": {},
   "outputs": [
    {
     "data": {
      "text/html": [
       "<div>\n",
       "<style scoped>\n",
       "    .dataframe tbody tr th:only-of-type {\n",
       "        vertical-align: middle;\n",
       "    }\n",
       "\n",
       "    .dataframe tbody tr th {\n",
       "        vertical-align: top;\n",
       "    }\n",
       "\n",
       "    .dataframe thead th {\n",
       "        text-align: right;\n",
       "    }\n",
       "</style>\n",
       "<table border=\"1\" class=\"dataframe\">\n",
       "  <thead>\n",
       "    <tr style=\"text-align: right;\">\n",
       "      <th></th>\n",
       "      <th>id</th>\n",
       "      <th>user_id</th>\n",
       "      <th>cart</th>\n",
       "    </tr>\n",
       "  </thead>\n",
       "  <tbody>\n",
       "    <tr>\n",
       "      <th>0</th>\n",
       "      <td>0;133</td>\n",
       "      <td>0</td>\n",
       "      <td>133</td>\n",
       "    </tr>\n",
       "    <tr>\n",
       "      <th>1</th>\n",
       "      <td>0;5</td>\n",
       "      <td>0</td>\n",
       "      <td>5</td>\n",
       "    </tr>\n",
       "    <tr>\n",
       "      <th>2</th>\n",
       "      <td>0;10</td>\n",
       "      <td>0</td>\n",
       "      <td>10</td>\n",
       "    </tr>\n",
       "    <tr>\n",
       "      <th>3</th>\n",
       "      <td>0;396</td>\n",
       "      <td>0</td>\n",
       "      <td>396</td>\n",
       "    </tr>\n",
       "    <tr>\n",
       "      <th>4</th>\n",
       "      <td>0;14</td>\n",
       "      <td>0</td>\n",
       "      <td>14</td>\n",
       "    </tr>\n",
       "    <tr>\n",
       "      <th>...</th>\n",
       "      <td>...</td>\n",
       "      <td>...</td>\n",
       "      <td>...</td>\n",
       "    </tr>\n",
       "    <tr>\n",
       "      <th>790444</th>\n",
       "      <td>19998;26</td>\n",
       "      <td>19998</td>\n",
       "      <td>26</td>\n",
       "    </tr>\n",
       "    <tr>\n",
       "      <th>790445</th>\n",
       "      <td>19998;31</td>\n",
       "      <td>19998</td>\n",
       "      <td>31</td>\n",
       "    </tr>\n",
       "    <tr>\n",
       "      <th>790446</th>\n",
       "      <td>19998;29</td>\n",
       "      <td>19998</td>\n",
       "      <td>29</td>\n",
       "    </tr>\n",
       "    <tr>\n",
       "      <th>790447</th>\n",
       "      <td>19998;798</td>\n",
       "      <td>19998</td>\n",
       "      <td>798</td>\n",
       "    </tr>\n",
       "    <tr>\n",
       "      <th>790448</th>\n",
       "      <td>19998;415</td>\n",
       "      <td>19998</td>\n",
       "      <td>415</td>\n",
       "    </tr>\n",
       "  </tbody>\n",
       "</table>\n",
       "<p>790449 rows × 3 columns</p>\n",
       "</div>"
      ],
      "text/plain": [
       "               id user_id cart\n",
       "0           0;133       0  133\n",
       "1             0;5       0    5\n",
       "2            0;10       0   10\n",
       "3           0;396       0  396\n",
       "4            0;14       0   14\n",
       "...           ...     ...  ...\n",
       "790444   19998;26   19998   26\n",
       "790445   19998;31   19998   31\n",
       "790446   19998;29   19998   29\n",
       "790447  19998;798   19998  798\n",
       "790448  19998;415   19998  415\n",
       "\n",
       "[790449 rows x 3 columns]"
      ]
     },
     "execution_count": 269,
     "metadata": {},
     "output_type": "execute_result"
    }
   ],
   "source": [
    "sample"
   ]
  },
  {
   "cell_type": "code",
   "execution_count": 270,
   "metadata": {},
   "outputs": [
    {
     "data": {
      "text/html": [
       "<div>\n",
       "<style scoped>\n",
       "    .dataframe tbody tr th:only-of-type {\n",
       "        vertical-align: middle;\n",
       "    }\n",
       "\n",
       "    .dataframe tbody tr th {\n",
       "        vertical-align: top;\n",
       "    }\n",
       "\n",
       "    .dataframe thead th {\n",
       "        text-align: right;\n",
       "    }\n",
       "</style>\n",
       "<table border=\"1\" class=\"dataframe\">\n",
       "  <thead>\n",
       "    <tr style=\"text-align: right;\">\n",
       "      <th></th>\n",
       "      <th>user_id</th>\n",
       "      <th>cart</th>\n",
       "      <th>predicted_next_order_date</th>\n",
       "      <th>predicted_target</th>\n",
       "    </tr>\n",
       "  </thead>\n",
       "  <tbody>\n",
       "    <tr>\n",
       "      <th>0</th>\n",
       "      <td>0</td>\n",
       "      <td>133</td>\n",
       "      <td>2020-09-04 07:59:12</td>\n",
       "      <td>0.0</td>\n",
       "    </tr>\n",
       "    <tr>\n",
       "      <th>1</th>\n",
       "      <td>0</td>\n",
       "      <td>5</td>\n",
       "      <td>2020-09-04 07:59:12</td>\n",
       "      <td>1.0</td>\n",
       "    </tr>\n",
       "    <tr>\n",
       "      <th>2</th>\n",
       "      <td>0</td>\n",
       "      <td>10</td>\n",
       "      <td>2020-09-04 07:59:12</td>\n",
       "      <td>1.0</td>\n",
       "    </tr>\n",
       "    <tr>\n",
       "      <th>3</th>\n",
       "      <td>0</td>\n",
       "      <td>396</td>\n",
       "      <td>2020-09-04 07:59:12</td>\n",
       "      <td>1.0</td>\n",
       "    </tr>\n",
       "    <tr>\n",
       "      <th>4</th>\n",
       "      <td>0</td>\n",
       "      <td>14</td>\n",
       "      <td>2020-09-04 07:59:12</td>\n",
       "      <td>1.0</td>\n",
       "    </tr>\n",
       "    <tr>\n",
       "      <th>...</th>\n",
       "      <td>...</td>\n",
       "      <td>...</td>\n",
       "      <td>...</td>\n",
       "      <td>...</td>\n",
       "    </tr>\n",
       "    <tr>\n",
       "      <th>790444</th>\n",
       "      <td>19998</td>\n",
       "      <td>26</td>\n",
       "      <td>2020-09-03 16:54:54</td>\n",
       "      <td>1.0</td>\n",
       "    </tr>\n",
       "    <tr>\n",
       "      <th>790445</th>\n",
       "      <td>19998</td>\n",
       "      <td>31</td>\n",
       "      <td>2020-09-03 16:54:54</td>\n",
       "      <td>1.0</td>\n",
       "    </tr>\n",
       "    <tr>\n",
       "      <th>790446</th>\n",
       "      <td>19998</td>\n",
       "      <td>29</td>\n",
       "      <td>2020-09-03 16:54:54</td>\n",
       "      <td>1.0</td>\n",
       "    </tr>\n",
       "    <tr>\n",
       "      <th>790447</th>\n",
       "      <td>19998</td>\n",
       "      <td>798</td>\n",
       "      <td>2020-09-03 16:54:54</td>\n",
       "      <td>1.0</td>\n",
       "    </tr>\n",
       "    <tr>\n",
       "      <th>790448</th>\n",
       "      <td>19998</td>\n",
       "      <td>415</td>\n",
       "      <td>2020-09-03 16:54:54</td>\n",
       "      <td>1.0</td>\n",
       "    </tr>\n",
       "  </tbody>\n",
       "</table>\n",
       "<p>790449 rows × 4 columns</p>\n",
       "</div>"
      ],
      "text/plain": [
       "       user_id cart predicted_next_order_date  predicted_target\n",
       "0            0  133       2020-09-04 07:59:12               0.0\n",
       "1            0    5       2020-09-04 07:59:12               1.0\n",
       "2            0   10       2020-09-04 07:59:12               1.0\n",
       "3            0  396       2020-09-04 07:59:12               1.0\n",
       "4            0   14       2020-09-04 07:59:12               1.0\n",
       "...        ...  ...                       ...               ...\n",
       "790444   19998   26       2020-09-03 16:54:54               1.0\n",
       "790445   19998   31       2020-09-03 16:54:54               1.0\n",
       "790446   19998   29       2020-09-03 16:54:54               1.0\n",
       "790447   19998  798       2020-09-03 16:54:54               1.0\n",
       "790448   19998  415       2020-09-03 16:54:54               1.0\n",
       "\n",
       "[790449 rows x 4 columns]"
      ]
     },
     "execution_count": 270,
     "metadata": {},
     "output_type": "execute_result"
    }
   ],
   "source": [
    "final_extended"
   ]
  },
  {
   "cell_type": "code",
   "execution_count": 271,
   "metadata": {},
   "outputs": [],
   "source": [
    "# Преобразование типов данных и объединение столбцов user_id и cart в один столбец id\n",
    "final_extended['user_id'] = final_extended['user_id'].astype(int)\n",
    "final_extended['cart'] = final_extended['cart'].astype(int)\n",
    "#final_extended['id'] = final_extended['user_id'].astype(str) + ';' + final_extended['cart'].astype(str)"
   ]
  },
  {
   "cell_type": "code",
   "execution_count": 272,
   "metadata": {},
   "outputs": [
    {
     "data": {
      "text/html": [
       "<div>\n",
       "<style scoped>\n",
       "    .dataframe tbody tr th:only-of-type {\n",
       "        vertical-align: middle;\n",
       "    }\n",
       "\n",
       "    .dataframe tbody tr th {\n",
       "        vertical-align: top;\n",
       "    }\n",
       "\n",
       "    .dataframe thead th {\n",
       "        text-align: right;\n",
       "    }\n",
       "</style>\n",
       "<table border=\"1\" class=\"dataframe\">\n",
       "  <thead>\n",
       "    <tr style=\"text-align: right;\">\n",
       "      <th></th>\n",
       "      <th>id</th>\n",
       "      <th>user_id</th>\n",
       "      <th>cart</th>\n",
       "    </tr>\n",
       "  </thead>\n",
       "  <tbody>\n",
       "    <tr>\n",
       "      <th>0</th>\n",
       "      <td>0;133</td>\n",
       "      <td>0</td>\n",
       "      <td>133</td>\n",
       "    </tr>\n",
       "    <tr>\n",
       "      <th>1</th>\n",
       "      <td>0;5</td>\n",
       "      <td>0</td>\n",
       "      <td>5</td>\n",
       "    </tr>\n",
       "    <tr>\n",
       "      <th>2</th>\n",
       "      <td>0;10</td>\n",
       "      <td>0</td>\n",
       "      <td>10</td>\n",
       "    </tr>\n",
       "    <tr>\n",
       "      <th>3</th>\n",
       "      <td>0;396</td>\n",
       "      <td>0</td>\n",
       "      <td>396</td>\n",
       "    </tr>\n",
       "    <tr>\n",
       "      <th>4</th>\n",
       "      <td>0;14</td>\n",
       "      <td>0</td>\n",
       "      <td>14</td>\n",
       "    </tr>\n",
       "    <tr>\n",
       "      <th>...</th>\n",
       "      <td>...</td>\n",
       "      <td>...</td>\n",
       "      <td>...</td>\n",
       "    </tr>\n",
       "    <tr>\n",
       "      <th>790444</th>\n",
       "      <td>19998;26</td>\n",
       "      <td>19998</td>\n",
       "      <td>26</td>\n",
       "    </tr>\n",
       "    <tr>\n",
       "      <th>790445</th>\n",
       "      <td>19998;31</td>\n",
       "      <td>19998</td>\n",
       "      <td>31</td>\n",
       "    </tr>\n",
       "    <tr>\n",
       "      <th>790446</th>\n",
       "      <td>19998;29</td>\n",
       "      <td>19998</td>\n",
       "      <td>29</td>\n",
       "    </tr>\n",
       "    <tr>\n",
       "      <th>790447</th>\n",
       "      <td>19998;798</td>\n",
       "      <td>19998</td>\n",
       "      <td>798</td>\n",
       "    </tr>\n",
       "    <tr>\n",
       "      <th>790448</th>\n",
       "      <td>19998;415</td>\n",
       "      <td>19998</td>\n",
       "      <td>415</td>\n",
       "    </tr>\n",
       "  </tbody>\n",
       "</table>\n",
       "<p>790449 rows × 3 columns</p>\n",
       "</div>"
      ],
      "text/plain": [
       "               id user_id cart\n",
       "0           0;133       0  133\n",
       "1             0;5       0    5\n",
       "2            0;10       0   10\n",
       "3           0;396       0  396\n",
       "4            0;14       0   14\n",
       "...           ...     ...  ...\n",
       "790444   19998;26   19998   26\n",
       "790445   19998;31   19998   31\n",
       "790446   19998;29   19998   29\n",
       "790447  19998;798   19998  798\n",
       "790448  19998;415   19998  415\n",
       "\n",
       "[790449 rows x 3 columns]"
      ]
     },
     "execution_count": 272,
     "metadata": {},
     "output_type": "execute_result"
    }
   ],
   "source": [
    "sample"
   ]
  },
  {
   "cell_type": "code",
   "execution_count": 273,
   "metadata": {},
   "outputs": [
    {
     "name": "stdout",
     "output_type": "stream",
     "text": [
      "(790449, 6)\n"
     ]
    }
   ],
   "source": [
    "# Создание столбца merge_key в final_extended\n",
    "final_extended['merge_key'] = final_extended['user_id'].astype(str) + ';' + final_extended['cart'].astype(str)\n",
    "\n",
    "# Создание столбца merge_key в sample (если он еще не создан)\n",
    "sample['merge_key'] = sample['user_id'].astype(str) + ';' + sample['cart'].astype(str)\n",
    "\n",
    "# Выполнение слияния\n",
    "# Используем слияние типа 'right' для того, чтобы в результате были только строки из sample\n",
    "merged_df = pd.merge(final_extended, sample, on='merge_key', how='right')\n",
    "\n",
    "# После слияния, возможно, у вас появятся дубликаты столбцов (например, user_id_x, user_id_y). \n",
    "# Вы можете удалить лишние столбцы или переименовать их в соответствии с вашими потребностями:\n",
    "merged_df.drop(columns=['user_id_y', 'cart_y'], inplace=True)  # Удаление дубликатов столбцов\n",
    "merged_df.rename(columns={'user_id_x': 'user_id', 'cart_x': 'cart'}, inplace=True)  # Переименование оставшихся столбцов\n",
    "\n",
    "# Убедитесь, что в итоговом DataFrame 790449 строк\n",
    "print(merged_df.shape)\n"
   ]
  },
  {
   "cell_type": "code",
   "execution_count": 274,
   "metadata": {},
   "outputs": [
    {
     "data": {
      "text/html": [
       "<div>\n",
       "<style scoped>\n",
       "    .dataframe tbody tr th:only-of-type {\n",
       "        vertical-align: middle;\n",
       "    }\n",
       "\n",
       "    .dataframe tbody tr th {\n",
       "        vertical-align: top;\n",
       "    }\n",
       "\n",
       "    .dataframe thead th {\n",
       "        text-align: right;\n",
       "    }\n",
       "</style>\n",
       "<table border=\"1\" class=\"dataframe\">\n",
       "  <thead>\n",
       "    <tr style=\"text-align: right;\">\n",
       "      <th></th>\n",
       "      <th>user_id</th>\n",
       "      <th>cart</th>\n",
       "      <th>predicted_next_order_date</th>\n",
       "      <th>predicted_target</th>\n",
       "      <th>merge_key</th>\n",
       "      <th>id</th>\n",
       "    </tr>\n",
       "  </thead>\n",
       "  <tbody>\n",
       "    <tr>\n",
       "      <th>0</th>\n",
       "      <td>0</td>\n",
       "      <td>133</td>\n",
       "      <td>2020-09-04 07:59:12</td>\n",
       "      <td>0.0</td>\n",
       "      <td>0;133</td>\n",
       "      <td>0;133</td>\n",
       "    </tr>\n",
       "    <tr>\n",
       "      <th>1</th>\n",
       "      <td>0</td>\n",
       "      <td>5</td>\n",
       "      <td>2020-09-04 07:59:12</td>\n",
       "      <td>1.0</td>\n",
       "      <td>0;5</td>\n",
       "      <td>0;5</td>\n",
       "    </tr>\n",
       "    <tr>\n",
       "      <th>2</th>\n",
       "      <td>0</td>\n",
       "      <td>10</td>\n",
       "      <td>2020-09-04 07:59:12</td>\n",
       "      <td>1.0</td>\n",
       "      <td>0;10</td>\n",
       "      <td>0;10</td>\n",
       "    </tr>\n",
       "    <tr>\n",
       "      <th>3</th>\n",
       "      <td>0</td>\n",
       "      <td>396</td>\n",
       "      <td>2020-09-04 07:59:12</td>\n",
       "      <td>1.0</td>\n",
       "      <td>0;396</td>\n",
       "      <td>0;396</td>\n",
       "    </tr>\n",
       "    <tr>\n",
       "      <th>4</th>\n",
       "      <td>0</td>\n",
       "      <td>14</td>\n",
       "      <td>2020-09-04 07:59:12</td>\n",
       "      <td>1.0</td>\n",
       "      <td>0;14</td>\n",
       "      <td>0;14</td>\n",
       "    </tr>\n",
       "    <tr>\n",
       "      <th>...</th>\n",
       "      <td>...</td>\n",
       "      <td>...</td>\n",
       "      <td>...</td>\n",
       "      <td>...</td>\n",
       "      <td>...</td>\n",
       "      <td>...</td>\n",
       "    </tr>\n",
       "    <tr>\n",
       "      <th>790444</th>\n",
       "      <td>19998</td>\n",
       "      <td>26</td>\n",
       "      <td>2020-09-03 16:54:54</td>\n",
       "      <td>1.0</td>\n",
       "      <td>19998;26</td>\n",
       "      <td>19998;26</td>\n",
       "    </tr>\n",
       "    <tr>\n",
       "      <th>790445</th>\n",
       "      <td>19998</td>\n",
       "      <td>31</td>\n",
       "      <td>2020-09-03 16:54:54</td>\n",
       "      <td>1.0</td>\n",
       "      <td>19998;31</td>\n",
       "      <td>19998;31</td>\n",
       "    </tr>\n",
       "    <tr>\n",
       "      <th>790446</th>\n",
       "      <td>19998</td>\n",
       "      <td>29</td>\n",
       "      <td>2020-09-03 16:54:54</td>\n",
       "      <td>1.0</td>\n",
       "      <td>19998;29</td>\n",
       "      <td>19998;29</td>\n",
       "    </tr>\n",
       "    <tr>\n",
       "      <th>790447</th>\n",
       "      <td>19998</td>\n",
       "      <td>798</td>\n",
       "      <td>2020-09-03 16:54:54</td>\n",
       "      <td>1.0</td>\n",
       "      <td>19998;798</td>\n",
       "      <td>19998;798</td>\n",
       "    </tr>\n",
       "    <tr>\n",
       "      <th>790448</th>\n",
       "      <td>19998</td>\n",
       "      <td>415</td>\n",
       "      <td>2020-09-03 16:54:54</td>\n",
       "      <td>1.0</td>\n",
       "      <td>19998;415</td>\n",
       "      <td>19998;415</td>\n",
       "    </tr>\n",
       "  </tbody>\n",
       "</table>\n",
       "<p>790449 rows × 6 columns</p>\n",
       "</div>"
      ],
      "text/plain": [
       "        user_id  cart predicted_next_order_date  predicted_target  merge_key  \\\n",
       "0             0   133       2020-09-04 07:59:12               0.0      0;133   \n",
       "1             0     5       2020-09-04 07:59:12               1.0        0;5   \n",
       "2             0    10       2020-09-04 07:59:12               1.0       0;10   \n",
       "3             0   396       2020-09-04 07:59:12               1.0      0;396   \n",
       "4             0    14       2020-09-04 07:59:12               1.0       0;14   \n",
       "...         ...   ...                       ...               ...        ...   \n",
       "790444    19998    26       2020-09-03 16:54:54               1.0   19998;26   \n",
       "790445    19998    31       2020-09-03 16:54:54               1.0   19998;31   \n",
       "790446    19998    29       2020-09-03 16:54:54               1.0   19998;29   \n",
       "790447    19998   798       2020-09-03 16:54:54               1.0  19998;798   \n",
       "790448    19998   415       2020-09-03 16:54:54               1.0  19998;415   \n",
       "\n",
       "               id  \n",
       "0           0;133  \n",
       "1             0;5  \n",
       "2            0;10  \n",
       "3           0;396  \n",
       "4            0;14  \n",
       "...           ...  \n",
       "790444   19998;26  \n",
       "790445   19998;31  \n",
       "790446   19998;29  \n",
       "790447  19998;798  \n",
       "790448  19998;415  \n",
       "\n",
       "[790449 rows x 6 columns]"
      ]
     },
     "execution_count": 274,
     "metadata": {},
     "output_type": "execute_result"
    }
   ],
   "source": [
    "merged_df"
   ]
  },
  {
   "cell_type": "code",
   "execution_count": 275,
   "metadata": {},
   "outputs": [],
   "source": [
    "#merged.target.value_counts()"
   ]
  },
  {
   "cell_type": "code",
   "execution_count": 276,
   "metadata": {},
   "outputs": [
    {
     "data": {
      "text/plain": [
       "predicted_target\n",
       "1.0    589125\n",
       "0.0    201324\n",
       "Name: count, dtype: int64"
      ]
     },
     "execution_count": 276,
     "metadata": {},
     "output_type": "execute_result"
    }
   ],
   "source": [
    "merged_df.predicted_target.value_counts()"
   ]
  },
  {
   "cell_type": "code",
   "execution_count": 277,
   "metadata": {},
   "outputs": [
    {
     "name": "stdout",
     "output_type": "stream",
     "text": [
      "      id  target\n",
      "0  0;133     0.0\n",
      "1    0;5     1.0\n",
      "2   0;10     1.0\n",
      "3  0;396     1.0\n",
      "4   0;14     1.0\n"
     ]
    }
   ],
   "source": [
    "# Создание нового DataFrame с требуемыми столбцами\n",
    "final_table = merged_df[['id', 'predicted_target']].copy()\n",
    "\n",
    "# Переименование столбца для соответствия заданию\n",
    "final_table.rename(columns={'predicted_target': 'target'}, inplace=True)\n",
    "\n",
    "# Проверка результатов\n",
    "print(final_table.head())\n"
   ]
  },
  {
   "cell_type": "code",
   "execution_count": 278,
   "metadata": {},
   "outputs": [],
   "source": [
    "final_table.target = final_table.target.astype(int)"
   ]
  },
  {
   "cell_type": "code",
   "execution_count": 279,
   "metadata": {},
   "outputs": [
    {
     "data": {
      "text/plain": [
       "target\n",
       "1    589125\n",
       "0    201324\n",
       "Name: count, dtype: int64"
      ]
     },
     "execution_count": 279,
     "metadata": {},
     "output_type": "execute_result"
    }
   ],
   "source": [
    "final_table.target.value_counts()"
   ]
  },
  {
   "cell_type": "code",
   "execution_count": 281,
   "metadata": {},
   "outputs": [],
   "source": [
    "# Сохраняем обновленную таблицу sample в файл CSV (без индекса)\n",
    "final_table.to_csv('merged8.csv', index=False)"
   ]
  }
 ],
 "metadata": {
  "kernelspec": {
   "display_name": "Python 3",
   "language": "python",
   "name": "python3"
  },
  "language_info": {
   "codemirror_mode": {
    "name": "ipython",
    "version": 3
   },
   "file_extension": ".py",
   "mimetype": "text/x-python",
   "name": "python",
   "nbconvert_exporter": "python",
   "pygments_lexer": "ipython3",
   "version": "3.12.0"
  }
 },
 "nbformat": 4,
 "nbformat_minor": 2
}
